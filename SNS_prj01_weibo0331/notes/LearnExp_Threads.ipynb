{
 "cells": [
  {
   "cell_type": "markdown",
   "id": "104c2473",
   "metadata": {},
   "source": [
    "## 多线程的两种实现方法\n",
    "> 目标：因为单个处理程序，耗时比较慢，所以需要采用多线程进行。（本次积累还主要是一些基础用法，后续会继续加深）\n",
    "\n",
    "### 1 不用继承\n",
    "1.1 不用继承实现的线程（普通循环）<br>\n",
    "1.2 不用继承实现的线程（多线程）<br>\n",
    "\n",
    "### 2 继承线程\n",
    "2.1 用继承实现的线程（普通循环）<br>\n",
    "2.2 用继承实现的线程（多线程）<br>\n",
    "\n",
    "**小例子**<br>\n",
    "> **例子目标**：在列表中的每个元素后面，加上字符串`“tao”`<br>\n",
    "\n",
    "----------------------------------------------------"
   ]
  },
  {
   "cell_type": "markdown",
   "id": "e2d401dd",
   "metadata": {},
   "source": [
    "#### 1.1不用继承实现的线程（对比实验：用普通语句操作）"
   ]
  },
  {
   "cell_type": "code",
   "execution_count": 1,
   "id": "401b257d",
   "metadata": {},
   "outputs": [
    {
     "name": "stdout",
     "output_type": "stream",
     "text": [
      "这是一个需要执行的任务...\n",
      "当前线程的个数: 6\n",
      "当前线程的信息: <_MainThread(MainThread, started 28800)>\n",
      "这是一个需要执行的任务...\n",
      "当前线程的个数: 6\n",
      "当前线程的信息: <_MainThread(MainThread, started 28800)>\n",
      "这是一个需要执行的任务...\n",
      "当前线程的个数: 6\n",
      "当前线程的信息: <_MainThread(MainThread, started 28800)>\n",
      "这是一个需要执行的任务...\n",
      "当前线程的个数: 6\n",
      "当前线程的信息: <_MainThread(MainThread, started 28800)>\n",
      "这是一个需要执行的任务...\n",
      "当前线程的个数: 6\n",
      "当前线程的信息: <_MainThread(MainThread, started 28800)>\n",
      "这是一个需要执行的任务...\n",
      "当前线程的个数: 6\n",
      "当前线程的信息: <_MainThread(MainThread, started 28800)>\n",
      "['aatao', 'bbtao', 'cctao', 'ddtao', 'eetao', 'fftao']\n",
      "Time consuming: 6.073476076126099\n"
     ]
    }
   ],
   "source": [
    "# 1.1不用继承实现的线程（对比实验：用普通语句操作）\n",
    "\n",
    "import threading\n",
    "import time\n",
    "\n",
    "def job(strList, index):\n",
    "    print(\"这是一个需要执行的任务...\")\n",
    "    print(\"当前线程的个数:\", threading.active_count())\n",
    "    print(\"当前线程的信息:\", threading.current_thread())\n",
    "    strList[index] = strList[index] + 'tao'\n",
    "\n",
    "    time.sleep(1)\n",
    "\n",
    "if __name__ == '__main__':\n",
    "    startTime = time.time()  # 开始时间 -----------\n",
    "    \n",
    "    strList = ['aa', 'bb', 'cc', 'dd', 'ee', 'ff']\n",
    "    threads = []    \n",
    "    for index in range(0, len(strList)):\n",
    "        job(strList, index)    \n",
    "    print(strList)\n",
    "    \n",
    "    endTime = time.time()    # 结束时间 -----------\n",
    "    print(\"Time consuming: \" + str(endTime - startTime))"
   ]
  },
  {
   "cell_type": "markdown",
   "id": "172722ad",
   "metadata": {},
   "source": [
    "#### 1.2 不用继承实现的线程（测试实验：用线程操作）"
   ]
  },
  {
   "cell_type": "code",
   "execution_count": 2,
   "id": "897fb2c3",
   "metadata": {},
   "outputs": [
    {
     "name": "stdout",
     "output_type": "stream",
     "text": [
      "这是一个需要执行的任务...\n",
      "当前线程的个数: 7\n",
      "当前线程的信息: <Thread(job0, started 7504)>\n",
      "这是一个需要执行的任务...\n",
      "当前线程的个数: 8\n",
      "当前线程的信息: <Thread(job1, started 31944)>\n",
      "这是一个需要执行的任务...\n",
      "当前线程的个数: 9\n",
      "当前线程的信息: <Thread(job2, started 27720)>\n",
      "这是一个需要执行的任务...\n",
      "当前线程的个数: 10\n",
      "当前线程的信息: <Thread(job3, started 21392)>\n",
      "这是一个需要执行的任务...\n",
      "当前线程的个数: 11\n",
      "当前线程的信息: <Thread(job4, started 6608)>\n",
      "这是一个需要执行的任务...\n",
      "当前线程的个数: 12\n",
      "当前线程的信息: <Thread(job5, started 10784)>\n",
      "['aatao', 'bbtao', 'cctao', 'ddtao', 'eetao', 'fftao']\n",
      "Time consuming: 1.1140003204345703\n"
     ]
    }
   ],
   "source": [
    "# 1.2 不用继承实现的线程（测试实验：用线程操作）\n",
    "\n",
    "import threading\n",
    "import time\n",
    "\n",
    "def job(strList, index):\n",
    "    print(\"这是一个需要执行的任务...\")\n",
    "    print(\"当前线程的个数:\", threading.active_count())\n",
    "    print(\"当前线程的信息:\", threading.current_thread())\n",
    "    strList[index] = strList[index] + 'tao'\n",
    "\n",
    "    time.sleep(1)\n",
    "\n",
    "if __name__ == '__main__':\n",
    "    startTime = time.time()  # 开始时间 -----------    \n",
    "    \n",
    "    strList = ['aa', 'bb', 'cc', 'dd', 'ee', 'ff']\n",
    "    threads = []    \n",
    "    for index in range(0, len(strList)):\n",
    "        t = threading.Thread(target = job, name = \"job\" + str(index), args=(strList, index))\n",
    "        threads.append(t)\n",
    "        t.start()    \n",
    "    [thread.join() for thread in threads]    \n",
    "    print(strList)\n",
    "        \n",
    "    endTime = time.time()   # 结束时间 -----------\n",
    "    print(\"Time consuming: \" + str(endTime - startTime))"
   ]
  },
  {
   "cell_type": "markdown",
   "id": "5224e2ab",
   "metadata": {},
   "source": [
    "> **结论**\n",
    "> * 不用线程耗时：6.073476076126099\n",
    "> * 使用线程耗时：1.1140003204345703"
   ]
  },
  {
   "cell_type": "markdown",
   "id": "01d1d330",
   "metadata": {},
   "source": [
    "### 2 用继承的方法实现线程"
   ]
  },
  {
   "cell_type": "code",
   "execution_count": 3,
   "id": "8781d98b",
   "metadata": {},
   "outputs": [],
   "source": [
    "import threading\n",
    "import time\n",
    "\n",
    "class myThread(threading.Thread):\n",
    "    def __init__(self, threadName, strList, index):\n",
    "        threading.Thread.__init__(self)\n",
    "        self.threadName = threadName\n",
    "        self.strList = strList\n",
    "        self.index = index\n",
    "        \n",
    "    def run(self):\n",
    "        print (\"开始线程：\" + str(self.threadName))\n",
    "        changeStr(self.strList, self.index)\n",
    "        print (\"退出线程：\" + str(self.threadName))\n",
    "\n",
    "def changeStr(strList, index):\n",
    "    print(\"这是一个需要执行的任务...\")\n",
    "    print(\"当前线程的个数:\", threading.active_count())\n",
    "    print(\"当前线程的信息:\", threading.current_thread())\n",
    "    strList[index] = strList[index] + 'tao'\n",
    "\n",
    "    time.sleep(1)"
   ]
  },
  {
   "cell_type": "markdown",
   "id": "e4b664dc",
   "metadata": {},
   "source": [
    "#### 2.1 用继承实现的线程（对比实验：用普通语句操作）"
   ]
  },
  {
   "cell_type": "code",
   "execution_count": 4,
   "id": "1615bfbe",
   "metadata": {},
   "outputs": [
    {
     "name": "stdout",
     "output_type": "stream",
     "text": [
      "这是一个需要执行的任务...\n",
      "当前线程的个数: 6\n",
      "当前线程的信息: <_MainThread(MainThread, started 28800)>\n",
      "这是一个需要执行的任务...\n",
      "当前线程的个数: 6\n",
      "当前线程的信息: <_MainThread(MainThread, started 28800)>\n",
      "这是一个需要执行的任务...\n",
      "当前线程的个数: 6\n",
      "当前线程的信息: <_MainThread(MainThread, started 28800)>\n",
      "这是一个需要执行的任务...\n",
      "当前线程的个数: 6\n",
      "当前线程的信息: <_MainThread(MainThread, started 28800)>\n",
      "这是一个需要执行的任务...\n",
      "当前线程的个数: 6\n",
      "当前线程的信息: <_MainThread(MainThread, started 28800)>\n",
      "这是一个需要执行的任务...\n",
      "当前线程的个数: 6\n",
      "当前线程的信息: <_MainThread(MainThread, started 28800)>\n",
      "['aatao', 'bbtao', 'cctao', 'ddtao', 'eetao', 'fftao']\n",
      "Time consuming: 6.05\n"
     ]
    }
   ],
   "source": [
    "# 用继承实现的线程（对比实验：用普通语句操作）\n",
    "\n",
    "if __name__ == '__main__':\n",
    "    \n",
    "    startTime = time.time()\n",
    "    \n",
    "    strList = ['aa', 'bb', 'cc', 'dd', 'ee', 'ff']\n",
    "    \n",
    "    for i in range(0, len(strList)):\n",
    "        changeStr(strList, i)\n",
    "        \n",
    "    print(strList)\n",
    "    \n",
    "    endTime = time.time()    \n",
    "    print(\"Time consuming: %.2f\" % (endTime - startTime))"
   ]
  },
  {
   "cell_type": "markdown",
   "id": "60b9ee60",
   "metadata": {},
   "source": [
    "#### 2.2 用继承实现的线程（对比实验：用多线程操作）"
   ]
  },
  {
   "cell_type": "code",
   "execution_count": 5,
   "id": "8eba74d9",
   "metadata": {},
   "outputs": [
    {
     "name": "stdout",
     "output_type": "stream",
     "text": [
      "开始线程：job0\n",
      "这是一个需要执行的任务...\n",
      "当前线程的个数: 8\n",
      "当前线程的信息: <myThread(Thread-5, started 13932)>\n",
      "开始线程：job1\n",
      "这是一个需要执行的任务...\n",
      "当前线程的个数: 8\n",
      "当前线程的信息: <myThread(Thread-6, started 20716)>\n",
      "开始线程：job2\n",
      "这是一个需要执行的任务...\n",
      "当前线程的个数: 9\n",
      "当前线程的信息: <myThread(Thread-7, started 31660)>\n",
      "开始线程：job3\n",
      "这是一个需要执行的任务...\n",
      "当前线程的个数: 10\n",
      "当前线程的信息: <myThread(Thread-8, started 28684)>\n",
      "开始线程：job4\n",
      "这是一个需要执行的任务...\n",
      "当前线程的个数: 11\n",
      "当前线程的信息: <myThread(Thread-9, started 12748)>\n",
      "开始线程：job5\n",
      "这是一个需要执行的任务...\n",
      "当前线程的个数: 12\n",
      "当前线程的信息: <myThread(Thread-10, started 31212)>\n",
      "退出线程：job2退出线程：job1退出线程：job0\n",
      "\n",
      "\n",
      "退出线程：job4退出线程：job3\n",
      "退出线程：job5\n",
      "\n",
      "退出主线程\n",
      "['aatao', 'bbtao', 'cctao', 'ddtao', 'eetao', 'fftao']\n",
      "Time consuming: 1.02\n"
     ]
    }
   ],
   "source": [
    "# 用继承实现的线程（对比实验：用多线程操作）\n",
    "\n",
    "if __name__ == '__main__':\n",
    "    \n",
    "    startTime = time.time()\n",
    "    \n",
    "    strList = ['aa', 'bb', 'cc', 'dd', 'ee', 'ff']\n",
    "    threads = []\n",
    "    for i in range(0, len(strList)):\n",
    "        t = myThread(\"job\" + str(i), strList, i)\n",
    "        t.start()\n",
    "        threads.append(t)\n",
    "        \n",
    "    [thread.join() for thread in threads]\n",
    "    print (\"退出主线程\")\n",
    "    print(strList)\n",
    "    \n",
    "    endTime = time.time()    \n",
    "    print(\"Time consuming: %.2f\" % (endTime - startTime))"
   ]
  },
  {
   "cell_type": "markdown",
   "id": "1ef4e3be",
   "metadata": {},
   "source": [
    "> **结论**\n",
    "> * 不用线程耗时：6.05\n",
    "> * 使用线程耗时：1.02\n",
    "> * 使用继承的方式实现线程，模块化更强一些。"
   ]
  },
  {
   "cell_type": "code",
   "execution_count": null,
   "id": "39dec92a",
   "metadata": {},
   "outputs": [],
   "source": []
  }
 ],
 "metadata": {
  "kernelspec": {
   "display_name": "Python 3 (ipykernel)",
   "language": "python",
   "name": "python3"
  },
  "language_info": {
   "codemirror_mode": {
    "name": "ipython",
    "version": 3
   },
   "file_extension": ".py",
   "mimetype": "text/x-python",
   "name": "python",
   "nbconvert_exporter": "python",
   "pygments_lexer": "ipython3",
   "version": "3.9.7"
  }
 },
 "nbformat": 4,
 "nbformat_minor": 5
}
