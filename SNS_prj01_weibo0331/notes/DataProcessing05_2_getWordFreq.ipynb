{
 "cells": [
  {
   "cell_type": "markdown",
   "id": "21d459f7",
   "metadata": {},
   "source": [
    "## DP05. 按小时（集合）批量统计词频并保存对应变量\n",
    "[Back to HOME](https://visforever.github.io/)"
   ]
  },
  {
   "cell_type": "markdown",
   "id": "59710783",
   "metadata": {},
   "source": [
    "### 批量统计词频（多线程 vs 常规）\n",
    "* 词频统计(按小时，i.e., 按集合统计)\n",
    "* 处理24小时的词频，提取每小时top200的高频词，并保存在文件中\n",
    "* `存疑`：感觉多线程也没有很快，有待分析...\n",
    "* `疑惑已解决`：见[DP07. 多进程处理程序（替换多线程 - DP04）](https://visforever.github.io/blog/blogNotes/dp07_multiProcess.html)"
   ]
  },
  {
   "cell_type": "code",
   "execution_count": 1,
   "id": "70f12b4b",
   "metadata": {},
   "outputs": [],
   "source": [
    "import pickle\n",
    "# Input: 变量名，保存路径\n",
    "# Output: 保存路径\n",
    "def save_variable1(v, filename):\n",
    "    f = open(filename, 'wb')\n",
    "    pickle.dump(v, f, 0)  # 在dump()里加上第三个参数，设为0(ASCII协议).\n",
    "    f.close()\n",
    "    return filename\n",
    "\n",
    "# Input: 保存的变量路径\n",
    "# Output: 变量\n",
    "def load_variable1(filename):\n",
    "    f = open(filename, 'rb')\n",
    "    r = pickle.load(f)\n",
    "    f.close()\n",
    "    return r\n",
    "\n",
    "def save_variable2(v, filename):\n",
    "    try: \n",
    "        # f = open('test001.txt','w',encoding='utf-8') #open 打开要写入的文件，'w'就是写入的意思，如果有中文encoding进行编码\n",
    "        with open(filename,'w',encoding='utf-8') as f:\n",
    "            f.write(v)  # write是写入的意思，将（）中的内容写入到f文件里\n",
    "            \n",
    "    # 无论try中的程序是否存在报错，则都执行下面的关闭\n",
    "    finally: \n",
    "        if f:  # 判断下f是否打开了，如果没打开则不需要关闭，打开了则关闭\n",
    "            f.close()\n",
    "    return filename\n",
    "\n",
    "def load_variable2(filename):\n",
    "    # 首先try一下，如果程序打开以及在打开后读取一系列操作后有报错，则不中断程序\n",
    "    try:  \n",
    "        # f = open(filename, 'r', encoding='utf-8')\n",
    "        with open(filename, 'r', encoding='utf-8') as f:\n",
    "            strContent = f.read()\n",
    "    # 无论try中的程序是否存在报错，则都执行下面的关闭\n",
    "    finally:  \n",
    "        if f:  # 判断下f是否打开了，如果没打开则不需要关闭，打开了则关闭\n",
    "            f.close()\n",
    "    return strContent"
   ]
  },
  {
   "cell_type": "code",
   "execution_count": 2,
   "id": "d4255da5",
   "metadata": {},
   "outputs": [
    {
     "name": "stdout",
     "output_type": "stream",
     "text": [
      "['admin', 'config', 'db_Weibo_SH0331', 'db_Weibo_SH_0331_All', 'db_tvcg3years', 'db_tvcg4years', 'db_tvcgR3', 'db_tvcg_28years', 'db_weiboDB', 'local', 'test', 'weiboInfoAll']\n",
      "db_Weibo_SH0331: 已连接！\n"
     ]
    }
   ],
   "source": [
    "import pymongo\n",
    "con_str = \"localhost:27017\"\n",
    "db = pymongo.MongoClient(con_str, serverSelectionTimeoutMS = 10000)\n",
    "try:\n",
    "    # print(db.server_info())\n",
    "    \n",
    "    # 查询数据库中所有数据库的名称\n",
    "    db_names = db.list_database_names()\n",
    "    print(db_names)\n",
    "except Exception:\n",
    "    print(\"connect failed!\")\n",
    "    \n",
    "targetDB = 'db_Weibo_SH0331'\n",
    "\n",
    "if targetDB in db_names:\n",
    "    db_Weibo_SH0331 = db['db_Weibo_SH0331']\n",
    "    print(targetDB + \": 已连接！\")"
   ]
  },
  {
   "cell_type": "code",
   "execution_count": 3,
   "id": "412798db",
   "metadata": {},
   "outputs": [],
   "source": [
    "# key：集合的名称\n",
    "# value: 集合中所有词的数量，不一样的词的数量，词频字典\n",
    "\n",
    "# wordFreqDict = {\n",
    "#     'col_weibo_timePeriod0' : [17104459, 63090, {'抗疫': 77797, '11': 75271, '12345': 74553, ...}]\n",
    "#     'col_weibo_timePeriod1' : [14104454, 6308, {'疫情': 77797, '11': 75271, '12345': 74553, ...}]\n",
    "# }\n",
    "\n",
    "def computeWordFreq_v1(targetCol, wordFreqDict, per = 1.0):\n",
    "    \n",
    "    wordFreqDict[targetCol] = list()\n",
    "    \n",
    "    exec(targetCol + \" = db_Weibo_SH0331['\" + targetCol+ \"']\")\n",
    "    exec(\"recs = \" + targetCol + \".find()\")\n",
    "    loc = locals()\n",
    "    \n",
    "    tempCnt_Words = 0  # ●1 存放当前集合中的词的总数\n",
    "\n",
    "    freqWords = {}  # key(词汇)，value(词频数)\n",
    "\n",
    "    for cW in loc['recs']:\n",
    "        # 手动写词频统计函数，基于字典实现\n",
    "        currentContent = cW.get('kWords')\n",
    "        tempCnt_Words = tempCnt_Words + len(currentContent)  # 存放当前集合中关键词的总数量\n",
    "\n",
    "        for eachWord in currentContent:\n",
    "            freqWords[eachWord] = freqWords.get(eachWord, 0) + 1  # 统计每个关键词的词频\n",
    "\n",
    "    items = list(freqWords.items())  # 转换为list\n",
    "    total_num = len(items)  # ●2 不一样的词的个数\n",
    "    # print(\"items.len = \" + str(total_num)）  # ●2 不一样的词的个数\n",
    "    items.sort(key=lambda x: x[1], reverse=True)  # 按照词频排序\n",
    "    \n",
    "    topK = int(total_num * per)\n",
    "\n",
    "    wordcloudDic = dict()  # ●3 存放前k个词 & 词频\n",
    "    for i in range(topK):\n",
    "        word, count = items[i]\n",
    "        wordcloudDic[word] = count\n",
    "        # print(\"{0:<20}{1:>10}\".format(word, count))\n",
    "        \n",
    "    wordFreqDict[targetCol].append(tempCnt_Words)\n",
    "    wordFreqDict[targetCol].append(len(items))\n",
    "    wordFreqDict[targetCol].append(wordcloudDic)\n",
    "\n"
   ]
  },
  {
   "cell_type": "code",
   "execution_count": 4,
   "id": "0903d9b3",
   "metadata": {},
   "outputs": [
    {
     "name": "stdout",
     "output_type": "stream",
     "text": [
      "['col_weibo_timePeriod_0', 'col_weibo_timePeriod_1', 'col_weibo_timePeriod_2', 'col_weibo_timePeriod_3', 'col_weibo_timePeriod_4', 'col_weibo_timePeriod_5', 'col_weibo_timePeriod_6', 'col_weibo_timePeriod_7', 'col_weibo_timePeriod_8', 'col_weibo_timePeriod_9', 'col_weibo_timePeriod_10', 'col_weibo_timePeriod_11', 'col_weibo_timePeriod_12', 'col_weibo_timePeriod_13', 'col_weibo_timePeriod_14', 'col_weibo_timePeriod_15', 'col_weibo_timePeriod_16', 'col_weibo_timePeriod_17', 'col_weibo_timePeriod_18', 'col_weibo_timePeriod_19', 'col_weibo_timePeriod_20', 'col_weibo_timePeriod_21', 'col_weibo_timePeriod_22', 'col_weibo_timePeriod_23']\n",
      "col_weibo_timePeriod_0\n",
      "col_weibo_timePeriod_1\n",
      "col_weibo_timePeriod_2\n",
      "col_weibo_timePeriod_3\n",
      "col_weibo_timePeriod_4\n",
      "col_weibo_timePeriod_5\n",
      "col_weibo_timePeriod_6\n",
      "col_weibo_timePeriod_7\n",
      "col_weibo_timePeriod_8\n",
      "col_weibo_timePeriod_9\n",
      "col_weibo_timePeriod_10\n",
      "col_weibo_timePeriod_11\n",
      "col_weibo_timePeriod_12\n",
      "col_weibo_timePeriod_13\n",
      "col_weibo_timePeriod_14\n",
      "col_weibo_timePeriod_15\n",
      "col_weibo_timePeriod_16\n",
      "col_weibo_timePeriod_17\n",
      "col_weibo_timePeriod_18\n",
      "col_weibo_timePeriod_19\n",
      "col_weibo_timePeriod_20\n",
      "col_weibo_timePeriod_21\n",
      "col_weibo_timePeriod_22\n",
      "col_weibo_timePeriod_23\n",
      "---------------> Time consuming: 115.33\n"
     ]
    }
   ],
   "source": [
    "# 没用多线程，没用多进程\n",
    "import time\n",
    "\n",
    "if __name__ == '__main__':\n",
    "    startTime = time.time() \n",
    "    \n",
    "    # 循环操作24个集合：新建指定字段\n",
    "    subCol24 = list()\n",
    "    subCol24.append([\"col_weibo_timePeriod_\" + str(period) for period in range(0, 24)])\n",
    "    print(subCol24[0])\n",
    "    colPackages = subCol24[0]\n",
    "\n",
    "    wordFreqDict_Direct = dict()\n",
    "    per = 0.2  # 返回的是前200个高频词\n",
    "    \n",
    "    for i in range(0, len(colPackages)):\n",
    "        print(colPackages[i])\n",
    "        computeWordFreq_v1(colPackages[i], wordFreqDict_Direct, per)\n",
    "        \n",
    "    endTime = time.time()    \n",
    "    print(\"---------------> Time consuming: %.2f\" % (endTime - startTime))\n",
    "    save_variable1(wordFreqDict_Direct, 'wordFreqDict_Direct_WithType.txt')\n",
    "    save_variable2(str(wordFreqDict_Direct), 'wordFreqDict_Direct_WithoutType.txt')  # 只能查看字符串"
   ]
  },
  {
   "cell_type": "code",
   "execution_count": null,
   "id": "ef0bfa95",
   "metadata": {},
   "outputs": [],
   "source": []
  }
 ],
 "metadata": {
  "kernelspec": {
   "display_name": "Python 3 (ipykernel)",
   "language": "python",
   "name": "python3"
  },
  "language_info": {
   "codemirror_mode": {
    "name": "ipython",
    "version": 3
   },
   "file_extension": ".py",
   "mimetype": "text/x-python",
   "name": "python",
   "nbconvert_exporter": "python",
   "pygments_lexer": "ipython3",
   "version": "3.9.7"
  }
 },
 "nbformat": 4,
 "nbformat_minor": 5
}
