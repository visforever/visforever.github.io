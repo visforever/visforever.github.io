{
 "cells": [
  {
   "cell_type": "markdown",
   "id": "c450871d",
   "metadata": {},
   "source": [
    "### DP06. 按小时（集合）绘制词频-词云图，并保存对应变量\n",
    "[Back to HOME](https://visforever.github.io/)"
   ]
  },
  {
   "cell_type": "code",
   "execution_count": 1,
   "id": "0fc6cb57",
   "metadata": {},
   "outputs": [],
   "source": [
    "import pickle\n",
    "# Input: 变量名，保存路径\n",
    "# Output: 保存路径\n",
    "def save_variable1(v, filename):\n",
    "    f = open(filename, 'wb')\n",
    "    pickle.dump(v, f, 0)  # 在dump()里加上第三个参数，设为0(ASCII协议).\n",
    "    f.close()\n",
    "    return filename\n",
    "\n",
    "# Input: 保存的变量路径\n",
    "# Output: 变量\n",
    "def load_variable1(filename):\n",
    "    f = open(filename, 'rb')\n",
    "    r = pickle.load(f)\n",
    "    f.close()\n",
    "    return r"
   ]
  },
  {
   "cell_type": "code",
   "execution_count": 2,
   "id": "e25b463b",
   "metadata": {},
   "outputs": [
    {
     "name": "stdout",
     "output_type": "stream",
     "text": [
      "col_weibo_timePeriod_0\n",
      "1305921\n",
      "36127\n"
     ]
    }
   ],
   "source": [
    "# 变量所在路径\n",
    "road_var = 'wordFreqDict_MulPro_WithType.txt'\n",
    "FreqDict = load_variable1(road_var)\n",
    "\n",
    "firstKey = next(iter(FreqDict))\n",
    "\n",
    "firstValue = FreqDict.get(firstKey)\n",
    "totalNum_words = firstValue[0]\n",
    "totalNum_distinctWords = firstValue[1]\n",
    "totalWordDict = firstValue[2]\n",
    "\n",
    "print(firstKey)\n",
    "print(firstValue[0])\n",
    "print(firstValue[1])\n",
    "# print(firstValue[2]) # 存放的是高频词 & 对应的词出现的次数"
   ]
  },
  {
   "cell_type": "markdown",
   "id": "c19c8cbb",
   "metadata": {},
   "source": [
    "## 绘图 + 保存"
   ]
  },
  {
   "cell_type": "code",
   "execution_count": null,
   "id": "66ab929e",
   "metadata": {},
   "outputs": [],
   "source": [
    "# 设计函数绘图 + 保存\n",
    "# Input: 字典数据，指定的key\n",
    "# Output: None(保存图片)\n",
    "\n",
    "import matplotlib.pyplot as plt\n",
    "from wordcloud import WordCloud\n",
    "from PIL import ImageFont\n",
    "\n",
    "\n",
    "plt.rcParams['font.sans-serif'] = ['SimHei']\n",
    "plt.rcParams['axes.unicode_minus'] = False\n",
    "\n",
    "\n",
    "def drawAndsave(FreqDict, colKey):\n",
    "    cur_WordDict = FreqDict.get(colKey)[2]  # 下标为2的存的是词频字典\n",
    "    \n",
    "    # ------------------------------------------ 词频图\n",
    "    x1 = list(cur_WordDict.keys())\n",
    "    y1 = list(cur_WordDict.values())\n",
    "    plt.subplot(211)  # 切割子图，数字含义是将整个画面切割为2行1列，当前选用第1个切割块\n",
    "    plt.plot(x1, y1)\n",
    "    plt.xticks(rotation=60)  # 设置x轴上的刻度旋转角度\n",
    "    plt.ylabel('次数')\n",
    "    plt.title(colKey + '频次图')\n",
    "\n",
    "    plt.subplot(212)  # 切割子图，数字含义是将整个画面切割为2行1列，当前选用第2个切割块\n",
    "    plt.bar(x1, y1)\n",
    "    plt.xticks(rotation=60)  # 设置x轴上的刻度旋转角度\n",
    "    plt.xlabel('分词')\n",
    "    plt.ylabel('次数')\n",
    "    saveRoad1 = 'E:\\\\mP_figs\\\\' + colKey + '_lineBar.jpg'\n",
    "    plt.savefig(saveRoad1, dpi=500)\n",
    "    plt.close() # 可以保证不窜图（不显示图，而直接保存）\n",
    "    \n",
    "    # ------------------------------------------ 词云图\n",
    "    font = 'msyh.ttc'\n",
    "    wc = WordCloud(\n",
    "        background_color='white',  # 设置背景色，默认为黑色\n",
    "        font_path=font,  # 指定文字路径\n",
    "        width=500,  # 设置背景宽\n",
    "        height=350,  # 设置背景高\n",
    "        max_font_size=50,  # 最大字体\n",
    "        min_font_size=10,  # 最小字体\n",
    "        mode='RGBA'  # 当参数为“RGBA”并且background_color不为空时，背景为透明\n",
    "    )\n",
    "\n",
    "    wc.generate_from_frequencies(cur_WordDict)\n",
    "    saveRoad1 = 'E:\\\\mP_figs\\\\' + colKey + '_wordCloud.png'\n",
    "    wc.to_file(saveRoad1)\n",
    "    \n",
    "    \n",
    "if __name__ == '__main__':\n",
    "    # 循环操作24个集合：新建指定字段\n",
    "    subCol24 = list()\n",
    "    subCol24.append([\"col_weibo_timePeriod_\" + str(period) for period in range(0, 24)])\n",
    "    print(subCol24[0])\n",
    "    colPackages = subCol24[0]\n",
    "    \n",
    "    road_var = 'wordFreqDict_MulPro_WithType.txt'\n",
    "    FreqDict = load_variable1(road_var)\n",
    "    \n",
    "    for i in range(0, len(colPackages)):\n",
    "        print(colPackages[i])\n",
    "        drawAndsave(FreqDict, colPackages[i])  # 总字典，各个key。按key从字典中取值，绘图并保存"
   ]
  }
 ],
 "metadata": {
  "kernelspec": {
   "display_name": "Python 3 (ipykernel)",
   "language": "python",
   "name": "python3"
  },
  "language_info": {
   "codemirror_mode": {
    "name": "ipython",
    "version": 3
   },
   "file_extension": ".py",
   "mimetype": "text/x-python",
   "name": "python",
   "nbconvert_exporter": "python",
   "pygments_lexer": "ipython3",
   "version": "3.9.7"
  }
 },
 "nbformat": 4,
 "nbformat_minor": 5
}
