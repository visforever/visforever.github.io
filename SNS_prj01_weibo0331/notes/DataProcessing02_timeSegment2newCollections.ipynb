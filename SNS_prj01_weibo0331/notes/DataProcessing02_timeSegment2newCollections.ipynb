{
 "cells": [
  {
   "cell_type": "code",
   "execution_count": 7,
   "id": "cc0c33aa",
   "metadata": {},
   "outputs": [
    {
     "data": {
      "text/plain": [
       "['admin',\n",
       " 'config',\n",
       " 'db_Weibo_SH0331',\n",
       " 'db_Weibo_SH_0331_All',\n",
       " 'db_tvcgR3',\n",
       " 'db_weiboDB',\n",
       " 'local',\n",
       " 'test',\n",
       " 'weiboInfoAll']"
      ]
     },
     "execution_count": 7,
     "metadata": {},
     "output_type": "execute_result"
    }
   ],
   "source": [
    "import pymongo\n",
    "\n",
    "# 连接数据库\n",
    "db = pymongo.MongoClient(\"mongodb://localhost:27017/\")\n",
    "\n",
    "# 查询数据库中所有数据库的名称\n",
    "db_names = db.list_database_names()\n",
    "db_names"
   ]
  },
  {
   "cell_type": "code",
   "execution_count": 8,
   "id": "74407d13",
   "metadata": {},
   "outputs": [
    {
     "data": {
      "text/plain": [
       "['col_Weibo_SH0331']"
      ]
     },
     "execution_count": 8,
     "metadata": {},
     "output_type": "execute_result"
    }
   ],
   "source": [
    "db_Weibo_SH0331 = db[\"db_Weibo_SH0331\"]\n",
    "col_names = db_Weibo_SH0331.list_collection_names()\n",
    "col_names"
   ]
  },
  {
   "cell_type": "markdown",
   "id": "caf46557",
   "metadata": {},
   "source": [
    "## （1/2）下面根据每条记录的时间段将每条记录的`timePeriod`设置为对应的时段"
   ]
  },
  {
   "cell_type": "code",
   "execution_count": 17,
   "id": "a61a1b66",
   "metadata": {},
   "outputs": [
    {
     "name": "stdout",
     "output_type": "stream",
     "text": [
      "17\n",
      "已处理20000条记录！\n",
      "已处理40000条记录！\n",
      "已处理60000条记录！\n",
      "已处理80000条记录！\n",
      "已处理100000条记录！\n",
      "已处理120000条记录！\n",
      "已处理140000条记录！\n",
      "已处理160000条记录！\n",
      "已处理180000条记录！\n",
      "已处理200000条记录！\n",
      "已处理220000条记录！\n",
      "已处理240000条记录！\n",
      "已处理260000条记录！\n",
      "已处理280000条记录！\n",
      "已处理300000条记录！\n",
      "已处理320000条记录！\n",
      "已处理340000条记录！\n",
      "已处理360000条记录！\n",
      "已处理380000条记录！\n",
      "已处理400000条记录！\n",
      "已处理420000条记录！\n",
      "已处理440000条记录！\n",
      "已处理460000条记录！\n",
      "已处理480000条记录！\n",
      "已处理500000条记录！\n",
      "已处理520000条记录！\n",
      "已处理540000条记录！\n",
      "已处理560000条记录！\n",
      "已处理580000条记录！\n",
      "已处理600000条记录！\n",
      "已处理620000条记录！\n",
      "已处理640000条记录！\n",
      "已处理660000条记录！\n",
      "已处理680000条记录！\n",
      "已处理700000条记录！\n",
      "已处理720000条记录！\n",
      "已处理740000条记录！\n",
      "已处理760000条记录！\n",
      "已处理780000条记录！\n",
      "已处理800000条记录！\n",
      "已处理820000条记录！\n",
      "已处理840000条记录！\n",
      "已处理860000条记录！\n",
      "已处理880000条记录！\n",
      "已处理900000条记录！\n",
      "已处理920000条记录！\n",
      "已处理940000条记录！\n",
      "已处理960000条记录！\n",
      "已处理980000条记录！\n",
      "已处理1000000条记录！\n",
      "已处理1020000条记录！\n",
      "已处理1040000条记录！\n",
      "处理完毕，共处理1055876条记录！\n"
     ]
    }
   ],
   "source": [
    "# 依次查询每条记录\n",
    "# 判断每条记录的date区间，根据当前记录所在区间设置它的timePeriod\n",
    "# eg. \"2022-03-31 02:59:00\" 对应记录的 timePeriod 字段的值是2，表示当前记录是2点~3点之间发送的博文\n",
    "\n",
    "eg_date = \"2022-03-31 17:34:56\" \n",
    "print(eg_date[-8:-6])\n",
    "\n",
    "import pymongo\n",
    "import sys\n",
    "if __name__ == '__main__':\n",
    "    \n",
    "    # 连接数据库\n",
    "    db = pymongo.MongoClient(\"mongodb://localhost:27017/\")\n",
    "    db_Weibo_SH0331 = db[\"db_Weibo_SH0331\"]\n",
    "    col_Weibo_SH0331 = db_Weibo_SH0331['col_Weibo_SH0331']\n",
    "    \n",
    "    progressBar = 0\n",
    "    for eachRec in col_Weibo_SH0331.find():\n",
    "        progressBar = progressBar + 1\n",
    "        if progressBar % 20000 == 0:\n",
    "            print(\"已处理\" + str(progressBar) + \"条记录！\")\n",
    "        id = eachRec['_id']\n",
    "        date = eachRec['date']\n",
    "        timePeriod = int(date[-8:-6])\n",
    "        if not eachRec['timePeriod']:  # 判断当前字段的值是否为空，等同于( if eachRec['timePeriod'] == [] )\n",
    "            col_Weibo_SH0331.update_one({'_id': id}, {'$set': {'timePeriod': timePeriod}})\n",
    "    \n",
    "    print(\"处理完毕，共处理\" + str(progressBar) + \"条记录！\")"
   ]
  },
  {
   "cell_type": "markdown",
   "id": "175bddf7",
   "metadata": {},
   "source": [
    "## （2/2）下面根据每条记录的时间段，分24个段，并创建24个集合\n",
    "* 同时在每个集合中添加对应时段的记录\n",
    "* 操作的数据库是：`db_Weibo_SH0331`\n",
    "* 操作的集合是：`col_Weibo_SH0331`"
   ]
  },
  {
   "cell_type": "code",
   "execution_count": 18,
   "id": "0e06eaa5",
   "metadata": {},
   "outputs": [
    {
     "name": "stdout",
     "output_type": "stream",
     "text": [
      "当前所有的集合------>\n",
      "['col_Weibo_SH0331']\n",
      "['col_weibo_timePeriod_0', 'col_weibo_timePeriod_1', 'col_weibo_timePeriod_2', 'col_weibo_timePeriod_3', 'col_weibo_timePeriod_4', 'col_weibo_timePeriod_5', 'col_weibo_timePeriod_6', 'col_weibo_timePeriod_7', 'col_weibo_timePeriod_8', 'col_weibo_timePeriod_9', 'col_weibo_timePeriod_10', 'col_weibo_timePeriod_11', 'col_weibo_timePeriod_12', 'col_weibo_timePeriod_13', 'col_weibo_timePeriod_14', 'col_weibo_timePeriod_15', 'col_weibo_timePeriod_16', 'col_weibo_timePeriod_17', 'col_weibo_timePeriod_18', 'col_weibo_timePeriod_19', 'col_weibo_timePeriod_20', 'col_weibo_timePeriod_21', 'col_weibo_timePeriod_22', 'col_weibo_timePeriod_23']\n",
      "=================== start...\n",
      "当前集合不存在col_weibo_timePeriod_0，可以新建！\n",
      "--> 当前正在新建并添加0点所有的博文数据库\n",
      "当前集合不存在col_weibo_timePeriod_1，可以新建！\n",
      "--> 当前正在新建并添加1点所有的博文数据库\n",
      "当前集合不存在col_weibo_timePeriod_2，可以新建！\n",
      "--> 当前正在新建并添加2点所有的博文数据库\n",
      "当前集合不存在col_weibo_timePeriod_3，可以新建！\n",
      "--> 当前正在新建并添加3点所有的博文数据库\n",
      "当前集合不存在col_weibo_timePeriod_4，可以新建！\n",
      "--> 当前正在新建并添加4点所有的博文数据库\n",
      "当前集合不存在col_weibo_timePeriod_5，可以新建！\n",
      "--> 当前正在新建并添加5点所有的博文数据库\n",
      "当前集合不存在col_weibo_timePeriod_6，可以新建！\n",
      "--> 当前正在新建并添加6点所有的博文数据库\n",
      "当前集合不存在col_weibo_timePeriod_7，可以新建！\n",
      "--> 当前正在新建并添加7点所有的博文数据库\n",
      "当前集合不存在col_weibo_timePeriod_8，可以新建！\n",
      "--> 当前正在新建并添加8点所有的博文数据库\n",
      "当前集合不存在col_weibo_timePeriod_9，可以新建！\n",
      "--> 当前正在新建并添加9点所有的博文数据库\n",
      "当前集合不存在col_weibo_timePeriod_10，可以新建！\n",
      "--> 当前正在新建并添加10点所有的博文数据库\n",
      "当前集合不存在col_weibo_timePeriod_11，可以新建！\n",
      "--> 当前正在新建并添加11点所有的博文数据库\n",
      "当前集合不存在col_weibo_timePeriod_12，可以新建！\n",
      "--> 当前正在新建并添加12点所有的博文数据库\n",
      "当前集合不存在col_weibo_timePeriod_13，可以新建！\n",
      "--> 当前正在新建并添加13点所有的博文数据库\n",
      "当前集合不存在col_weibo_timePeriod_14，可以新建！\n",
      "--> 当前正在新建并添加14点所有的博文数据库\n",
      "当前集合不存在col_weibo_timePeriod_15，可以新建！\n",
      "--> 当前正在新建并添加15点所有的博文数据库\n",
      "当前集合不存在col_weibo_timePeriod_16，可以新建！\n",
      "--> 当前正在新建并添加16点所有的博文数据库\n",
      "当前集合不存在col_weibo_timePeriod_17，可以新建！\n",
      "--> 当前正在新建并添加17点所有的博文数据库\n",
      "当前集合不存在col_weibo_timePeriod_18，可以新建！\n",
      "--> 当前正在新建并添加18点所有的博文数据库\n",
      "当前集合不存在col_weibo_timePeriod_19，可以新建！\n",
      "--> 当前正在新建并添加19点所有的博文数据库\n",
      "当前集合不存在col_weibo_timePeriod_20，可以新建！\n",
      "--> 当前正在新建并添加20点所有的博文数据库\n",
      "当前集合不存在col_weibo_timePeriod_21，可以新建！\n",
      "--> 当前正在新建并添加21点所有的博文数据库\n",
      "当前集合不存在col_weibo_timePeriod_22，可以新建！\n",
      "--> 当前正在新建并添加22点所有的博文数据库\n",
      "当前集合不存在col_weibo_timePeriod_23，可以新建！\n",
      "--> 当前正在新建并添加23点所有的博文数据库\n",
      "=================== end...\n",
      "新建完毕，当前所有的集合------>\n",
      "['col_weibo_timePeriod_16', 'col_weibo_timePeriod_23', 'col_weibo_timePeriod_17', 'col_weibo_timePeriod_9', 'col_weibo_timePeriod_18', 'col_weibo_timePeriod_15', 'col_weibo_timePeriod_1', 'col_weibo_timePeriod_13', 'col_weibo_timePeriod_3', 'col_Weibo_SH0331', 'col_weibo_timePeriod_21', 'col_weibo_timePeriod_14', 'col_weibo_timePeriod_20', 'col_weibo_timePeriod_12', 'col_weibo_timePeriod_10', 'col_weibo_timePeriod_22', 'col_weibo_timePeriod_4', 'col_weibo_timePeriod_7', 'col_weibo_timePeriod_19', 'col_weibo_timePeriod_8', 'col_weibo_timePeriod_5', 'col_weibo_timePeriod_2', 'col_weibo_timePeriod_6', 'col_weibo_timePeriod_0', 'col_weibo_timePeriod_11']\n"
     ]
    }
   ],
   "source": [
    "import pymongo\n",
    "import sys\n",
    "import re\n",
    "\n",
    "if __name__ == '__main__':\n",
    "    \n",
    "    # 连接数据库\n",
    "    db = pymongo.MongoClient(\"mongodb://localhost:27017/\")\n",
    "    db_Weibo_SH0331 = db[\"db_Weibo_SH0331\"]\n",
    "    col_Weibo_SH0331 = db_Weibo_SH0331[\"col_Weibo_SH0331\"]\n",
    "    \n",
    "    nowColName = db_Weibo_SH0331.list_collection_names()\n",
    "    print(\"当前所有的集合------>\")\n",
    "    print(nowColName)\n",
    "    \n",
    "    # 循环新建24个集合（子表）\n",
    "    subCol24 = list()\n",
    "    subCol24.append([\"col_weibo_timePeriod_\" + str(period) for period in range(0, 24)])\n",
    "    print(subCol24[0])\n",
    "    print(\"=================== start...\")\n",
    "    colPackages = subCol24[0]\n",
    "    \n",
    "    # pattern = re.compile(r'\\d+')  # 正则表达式挑出数字\n",
    "    pattern = re.compile(r'([0-9]+)')\n",
    "    \n",
    "    for new_ColName in colPackages:\n",
    "        \n",
    "        if new_ColName in nowColName:\n",
    "            print(new_ColName)\n",
    "            print(\"当前集合已存在\" + new_ColName + \"，不再新建！\")\n",
    "            continue\n",
    "        else:\n",
    "            print(\"当前集合不存在\" + new_ColName + \"，可以新建！\")\n",
    "            \n",
    "            # 新建集合的名字由col_weibo_timePeriod_ 和 对应的时间拼接而成\n",
    "            hour = pattern.findall(new_ColName)  # e.g., col_weibo_timePeriod_0 表示的是0~1点的所有博文组成的集合\n",
    "            \n",
    "            # 获取timePeriod对应的字段 \n",
    "            timePeriod = int(hour[0]) # 例如，对于col_weibo_timePeriod_6，需要查询的是timePeriod为6的所有记录\n",
    "            print(\"--> 当前正在新建并添加\" + str(timePeriod) + \"点所有的博文数据库\")\n",
    "    \n",
    "            # 这里是指 col_weibo_timePeriod_0 = db_Weibo_SH0331['col_weibo_timePeriod_0']\n",
    "            exec(new_ColName + \" =  db_Weibo_SH0331[new_ColName]\")  # 选中指定数据库下的指定集合(没有则新建)\n",
    "            \n",
    "            queryCondition = {\"timePeriod\": timePeriod}   \n",
    "\n",
    "            tempRecords = col_Weibo_SH0331.find(queryCondition)\n",
    "            \n",
    "            # 执行col_weibo_timePeriod1.insert_many(tempRecords)\n",
    "            exec(new_ColName + \".insert_many(tempRecords)\")  # 因为循环过程中，new_ColName会变，所以用exec命令执行\n",
    "            \n",
    "    print(\"=================== end...\")\n",
    "    nowColName = db_Weibo_SH0331.list_collection_names()\n",
    "    print(\"新建完毕，当前所有的集合------>\")\n",
    "    print(nowColName)\n",
    "    "
   ]
  },
  {
   "cell_type": "code",
   "execution_count": 19,
   "id": "e0422144",
   "metadata": {},
   "outputs": [
    {
     "name": "stdout",
     "output_type": "stream",
     "text": [
      "{0: 69160, 1: 42241, 2: 20883, 3: 10741, 4: 9423, 5: 10409, 6: 20273, 7: 42653, 8: 78410, 9: 81770, 10: 75401, 11: 71259, 12: 64224, 13: 59789, 14: 47448, 15: 44225, 16: 42959, 17: 48605, 18: 35259, 19: 33904, 20: 36213, 21: 34712, 22: 36073, 23: 39842}\n"
     ]
    }
   ],
   "source": [
    "# 获取每个时段的记录总数目\n",
    "periodNums = dict()\n",
    "pattern = re.compile(r'([0-9]+)')\n",
    "\n",
    "for new_ColName in colPackages:\n",
    "    hour = pattern.findall(new_ColName)\n",
    "    # value = col_weibo_timePeriod0.count_documents({})\n",
    "    exec(\"value = \" + new_ColName + \".count_documents({})\")  # 打印该集合的记录总数\n",
    "    \n",
    "    periodNums[int(hour[0])] = value\n",
    "\n",
    "print(periodNums)"
   ]
  },
  {
   "cell_type": "code",
   "execution_count": 20,
   "id": "2e7df2ce",
   "metadata": {},
   "outputs": [
    {
     "name": "stdout",
     "output_type": "stream",
     "text": [
      "[0, 1, 2, 3, 4, 5, 6, 7, 8, 9, 10, 11, 12, 13, 14, 15, 16, 17, 18, 19, 20, 21, 22, 23]\n",
      "[69160, 42241, 20883, 10741, 9423, 10409, 20273, 42653, 78410, 81770, 75401, 71259, 64224, 59789, 47448, 44225, 42959, 48605, 35259, 33904, 36213, 34712, 36073, 39842]\n"
     ]
    },
    {
     "data": {
      "image/png": "[encoded data removed]",
      "text/plain": [
       "<Figure size 432x288 with 1 Axes>"
      ]
     },
     "metadata": {
      "needs_background": "light"
     },
     "output_type": "display_data"
    }
   ],
   "source": [
    "import matplotlib.pyplot as plt\n",
    "\n",
    "if __name__ == '__main__':\n",
    "    # 防止字体乱码\n",
    "    plt.rcParams['font.sans-serif']=['SimHei']\n",
    "    plt.rcParams['axes.unicode_minus']=False\n",
    "\n",
    "    items = list(periodNums.items())\n",
    "    items.sort(key=lambda x: x[0], reverse=False)\n",
    "\n",
    "    x1 = list(map(lambda x: x[0], items))\n",
    "    y1 = list(map(lambda x: x[1], items))\n",
    "\n",
    "    print(x1)\n",
    "    print(y1)\n",
    "    plt.bar(x1, y1)\n",
    "    plt.xticks(rotation=60)  # 设置x轴上的刻度旋转角度\n",
    "    plt.ylabel('时间段')\n",
    "    plt.ylabel('微博条数')\n",
    "    plt.title('每小时的博文数量图（条/小时）')"
   ]
  },
  {
   "cell_type": "markdown",
   "id": "b4118391",
   "metadata": {},
   "source": [
    "## 知识点学习记录 -- `exec()`初步使用示例\n",
    "Code:\n",
    "```python\n",
    "new_field = \"timePeriod_01\"\n",
    "# 自动新建变量的语句，很巧妙！！\n",
    "exec(new_field + \" = 'newVar'\")  # 让系统执行语句： timePeriod_01 = 5，相当于新建了一个变量\n",
    "print(new_field + \" = \" + eval(new_field)) # 打印出这个变量\n",
    "```\n",
    "\n",
    "Output: \n",
    "`timePeriod_01 = newVar`"
   ]
  },
  {
   "cell_type": "code",
   "execution_count": 23,
   "id": "391446e2",
   "metadata": {},
   "outputs": [
    {
     "name": "stdout",
     "output_type": "stream",
     "text": [
      "2022\n"
     ]
    }
   ],
   "source": [
    "new_var = 'a'\n",
    "# print(a)  # NameError: name 'a' is not defined\n",
    "exec(new_var + \" = 2022\")\n",
    "print(a)  # 2022"
   ]
  }
 ],
 "metadata": {
  "kernelspec": {
   "display_name": "Python 3 (ipykernel)",
   "language": "python",
   "name": "python3"
  },
  "language_info": {
   "codemirror_mode": {
    "name": "ipython",
    "version": 3
   },
   "file_extension": ".py",
   "mimetype": "text/x-python",
   "name": "python",
   "nbconvert_exporter": "python",
   "pygments_lexer": "ipython3",
   "version": "3.9.7"
  }
 },
 "nbformat": 4,
 "nbformat_minor": 5
}
