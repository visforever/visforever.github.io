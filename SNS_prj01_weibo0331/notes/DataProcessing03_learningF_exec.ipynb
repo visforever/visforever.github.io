{
 "cells": [
  {
   "cell_type": "code",
   "execution_count": 1,
   "id": "34e9d4e3",
   "metadata": {},
   "outputs": [
    {
     "name": "stdout",
     "output_type": "stream",
     "text": [
      "['admin', 'config', 'db_Weibo_SH0331', 'db_Weibo_SH_0331_All', 'db_tvcgR3', 'db_weiboDB', 'local', 'test', 'weiboInfoAll']\n"
     ]
    }
   ],
   "source": [
    "import pymongo\n",
    "con_str = \"localhost:27017\"\n",
    "db = pymongo.MongoClient(con_str, serverSelectionTimeoutMS = 10000)\n",
    "try:\n",
    "    # print(db.server_info())\n",
    "    \n",
    "    # 查询数据库中所有数据库的名称\n",
    "    db_names = db.list_database_names()\n",
    "    print(db_names)\n",
    "except Exception:\n",
    "    print(\"connect failed!\")"
   ]
  },
  {
   "cell_type": "code",
   "execution_count": 7,
   "id": "30e75ca0",
   "metadata": {},
   "outputs": [
    {
     "name": "stdout",
     "output_type": "stream",
     "text": [
      "['col_weibo_timePeriod_16', 'col_weibo_timePeriod_23', 'col_weibo_timePeriod_17', 'col_weibo_timePeriod_9', 'col_weibo_timePeriod_18', 'col_weibo_timePeriod_15', 'col_weibo_timePeriod_1', 'col_weibo_timePeriod_13', 'col_weibo_timePeriod_3', 'col_Weibo_SH0331', 'col_weibo_timePeriod_21', 'col_weibo_timePeriod_14', 'col_weibo_timePeriod_20', 'col_weibo_timePeriod_12', 'col_weibo_timePeriod_10', 'col_weibo_timePeriod_22', 'col_weibo_timePeriod_4', 'col_weibo_timePeriod_7', 'col_weibo_timePeriod_19', 'col_weibo_timePeriod_8', 'col_weibo_timePeriod_5', 'col_weibo_timePeriod_2', 'col_weibo_timePeriod_6', 'col_weibo_timePeriod_0', 'col_weibo_timePeriod_11']\n",
      "69160\n"
     ]
    }
   ],
   "source": [
    "targetDB = 'db_Weibo_SH0331'\n",
    "targetCol = 'col_weibo_timePeriod_0'\n",
    "if targetDB in db_names:\n",
    "    db_Weibo_SH0331 = db['db_Weibo_SH0331']\n",
    "    col_names = db_Weibo_SH0331.list_collection_names()\n",
    "    print(col_names)\n",
    "    if targetCol in col_names:\n",
    "        col_weibo_timePeriod_0 = db_Weibo_SH0331['col_weibo_timePeriod_0']\n",
    "        print(col_weibo_timePeriod_0.count_documents({}))"
   ]
  },
  {
   "cell_type": "markdown",
   "id": "3cf4244d",
   "metadata": {},
   "source": [
    "## 目标：自动在集合 `col_weibo_timePeriod_0 `~ `col_weibo_timePeriod_23`内，新建自定义的字段\n",
    "* 事实上，已经在程序中`DP01`中指出，**不存在某个字段的时候，不需要新建，直接操作该字段（比如，给一个不存在的字段赋值）就会自动新建该字段。**\n",
    "* 但是因为后期还是需要用到自动化，所以本次整理程序的时候，就重点回顾和记录一下函数`exec()`的学习的时候，最重要的点：`locals()`<br>\n",
    "\\>\\_<就因为它搞了半天，以此记之！"
   ]
  },
  {
   "cell_type": "markdown",
   "id": "d0eaafa3",
   "metadata": {},
   "source": [
    "### `exec()` 知识点记录 ★★★★☆\n",
    "* 正常的语句1（不在函数内部）<br><br>\n",
    "\n",
    "```python\n",
    "col_weibo_timePeriod_9 = db_Weibo_SH0331['col_weibo_timePeriod_9']  # 连接数据库中的集合\n",
    "nums1 = col_weibo_timePeriod_9.count_documents({})  # nums1 = 81770\n",
    "\n",
    "exists1 = col_weibo_timePeriod_9.find_one({'titleCutting': {'exists': True}})  # 当前col_weibo_timePeriod9里不存在'titleCutting'字段\n",
    "print(exists1)  # None\n",
    "```"
   ]
  },
  {
   "cell_type": "markdown",
   "id": "586a026a",
   "metadata": {},
   "source": [
    "* 自动化语句2（在函数内部，批量执行）<br><br>\n",
    "\n",
    "```python\n",
    "def makeNewFields(targetCol, newField):\n",
    "    print(targetCol)  # 查看参数是否传递进来\n",
    "    print(newField)  # 查看参数是否传递进来\n",
    "\n",
    "    # 存储了局部变量的一个字典（key-value，键值对）\n",
    "    loc = locals()  # loc指向的对象一直在变，所以loc也会变（即，在不同位置打印loc时，出现的内容不一样）\n",
    "\n",
    "    # ● 注意，这里虽然已经连接，但是是在函数内部进行连接的，在函数外部无法访问targetCol对应的字符串指向的集合，即'col_weibo_timePeriod_9'这个集合\n",
    "    exec(targetCol + \" = db_Weibo_SH0331['\" + targetCol+ \"']\")  # exec()函数：执行【连接数据库中的集合】的语句\n",
    "    exec(\"nums2 = \" + targetCol + \".count_documents({})\")\n",
    "    print(loc)  # 输出loc，可以看到当前的局部变量，此时没有'exists2'这个key\n",
    "\n",
    "    exec(\"exists2 = \" + targetCol + \".find_one({'\" + newField + \"': {'exists': True}})\")\n",
    "    print(loc)  # 输出loc的位置不同，对应的loc内容不一样，此时已经有了'exists2'这个key\n",
    "\n",
    "\n",
    "    '''需要注意：下面这条语句，是在打印全局变量exists2, 如果全局中没有定义，则会报错'''\n",
    "    # print(exists2)  # NameError: name 'exists2' is not defined     \n",
    "\n",
    "    '''如果想打印当前函数内部的exists2这个变量对应的值'''\n",
    "    print(loc['exists2'])  # 不存在，就输出None；存在，就是打印第一条记录(find_one()执行结果)的内容\n",
    "    print(loc['nums2'])\n",
    "\n",
    "\n",
    "if __name__ == '__main__':\n",
    "    targetCol = 'col_weibo_timePeriod_9'  # 随便挑一个collection来试试\n",
    "    newField = 'titleCutting'\n",
    "    makeNewFields(targetCol, newField)  \n",
    "    # col_weibo_timePeriod_9.count_documents({})  # ● NameError: name 'col_weibo_timePeriod_9' is not defined\n",
    " \n",
    "```"
   ]
  },
  {
   "cell_type": "code",
   "execution_count": 8,
   "id": "440330b4",
   "metadata": {},
   "outputs": [
    {
     "name": "stdout",
     "output_type": "stream",
     "text": [
      "None\n"
     ]
    }
   ],
   "source": [
    "col_weibo_timePeriod_9 = db_Weibo_SH0331['col_weibo_timePeriod_9']  # 连接数据库中的集合\n",
    "nums1 = col_weibo_timePeriod_9.count_documents({})  # nums1 = 81770\n",
    "exists1 = col_weibo_timePeriod_9.find_one({'titleCutting': {'$exists': True}})  # 当前col_weibo_timePeriod9里不存在'titleCutting'字段\n",
    "print(exists1)  # None"
   ]
  },
  {
   "cell_type": "code",
   "execution_count": 17,
   "id": "3941d02b",
   "metadata": {},
   "outputs": [
    {
     "name": "stdout",
     "output_type": "stream",
     "text": [
      "col_weibo_timePeriod_10\n",
      "titleCutting\n",
      "{'targetCol': 'col_weibo_timePeriod_10', 'newField': 'titleCutting', 'loc': {...}, 'col_weibo_timePeriod_10': Collection(Database(MongoClient(host=['localhost:27017'], document_class=dict, tz_aware=False, connect=True, serverselectiontimeoutms=10000), 'db_Weibo_SH0331'), 'col_weibo_timePeriod_10'), 'nums2': 75401}\n",
      "{'targetCol': 'col_weibo_timePeriod_10', 'newField': 'titleCutting', 'loc': {...}, 'col_weibo_timePeriod_10': Collection(Database(MongoClient(host=['localhost:27017'], document_class=dict, tz_aware=False, connect=True, serverselectiontimeoutms=10000), 'db_Weibo_SH0331'), 'col_weibo_timePeriod_10'), 'nums2': 75401, 'exists2': None}\n",
      "None\n",
      "75401\n"
     ]
    }
   ],
   "source": [
    "def makeNewFields(targetCol, newField):\n",
    "    print(targetCol)  # 查看参数是否传递进来\n",
    "    print(newField)  # 查看参数是否传递进来\n",
    "\n",
    "    # 存储了局部变量的一个字典（key-value，键值对）\n",
    "    loc = locals()  # loc指向的对象一直在变，所以loc也会变（即，在不同位置打印loc时，出现的内容不一样）\n",
    "\n",
    "    # ● 注意，这里虽然已经连接，但是是在函数内部进行连接的，在函数外部无法访问targetCol对应的字符串指向的集合，即'col_weibo_timePeriod_10'这个集合\n",
    "    exec(targetCol + \" = db_Weibo_SH0331['\" + targetCol+ \"']\")  # exec()函数：执行【连接数据库中的集合】的语句\n",
    "    exec(\"nums2 = \" + targetCol + \".count_documents({})\")\n",
    "    print(loc)  # 输出loc，可以看到当前的局部变量，此时没有'exists2'这个key\n",
    "\n",
    "    exec(\"exists2 = \" + targetCol + \".find_one({'\" + newField + \"': {'$exists': True}})\")\n",
    "    print(loc)  # 输出loc的位置不同，对应的loc内容不一样，此时已经有了'exists2'这个key\n",
    "\n",
    "\n",
    "    '''需要注意：下面这条语句，是在打印全局变量exists2, 如果全局中没有定义，则会报错，可以解除注释，打印试试（一定报错—_—）'''\n",
    "    # print(exists2)  # NameError: name 'exists2' is not defined     \n",
    "\n",
    "    '''如果想打印当前函数内部的exists2这个变量对应的值'''\n",
    "    print(loc['exists2'])  # 不存在，就输出None；存在，就是打印第一条记录(find_one()执行结果)的内容\n",
    "    print(loc['nums2'])\n",
    "                                                           \n",
    "\n",
    "if __name__ == '__main__':\n",
    "    targetCol = 'col_weibo_timePeriod_10'  # 随便挑一个collection来试试\n",
    "    newField = 'titleCutting'\n",
    "    makeNewFields(targetCol, newField)  \n",
    "    \n",
    "    # ● NameError: name 'col_weibo_timePeriod_10' is not defined\n",
    "    # print(col_weibo_timePeriod_10.count_documents({}))  # 报错原因，函数内部连接了，处理了，但是没传到外部。"
   ]
  },
  {
   "cell_type": "code",
   "execution_count": null,
   "id": "492b6b81",
   "metadata": {},
   "outputs": [],
   "source": []
  }
 ],
 "metadata": {
  "kernelspec": {
   "display_name": "Python 3 (ipykernel)",
   "language": "python",
   "name": "python3"
  },
  "language_info": {
   "codemirror_mode": {
    "name": "ipython",
    "version": 3
   },
   "file_extension": ".py",
   "mimetype": "text/x-python",
   "name": "python",
   "nbconvert_exporter": "python",
   "pygments_lexer": "ipython3",
   "version": "3.9.7"
  }
 },
 "nbformat": 4,
 "nbformat_minor": 5
}
