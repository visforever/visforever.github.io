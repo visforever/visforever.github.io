{
 "cells": [
  {
   "cell_type": "code",
   "execution_count": 1,
   "id": "6809d122",
   "metadata": {},
   "outputs": [],
   "source": [
    "import pymongo"
   ]
  },
  {
   "cell_type": "code",
   "execution_count": 2,
   "id": "5a7ae5c3",
   "metadata": {},
   "outputs": [
    {
     "name": "stdout",
     "output_type": "stream",
     "text": [
      "{'version': '6.0.0', 'gitVersion': 'e61bf27c2f6a83fed36e5a13c008a32d563babe2', 'targetMinOS': 'Windows 7/Windows Server 2008 R2', 'modules': [], 'allocator': 'tcmalloc', 'javascriptEngine': 'mozjs', 'sysInfo': 'deprecated', 'versionArray': [6, 0, 0, 0], 'openssl': {'running': 'Windows SChannel'}, 'buildEnvironment': {'distmod': 'windows', 'distarch': 'x86_64', 'cc': 'cl: Microsoft (R) C/C++ Optimizing Compiler Version 19.31.31107 for x64', 'ccflags': '/nologo /WX /FImongo/platform/basic.h /EHsc /W3 /wd4068 /wd4244 /wd4267 /wd4290 /wd4351 /wd4355 /wd4373 /wd4800 /wd4251 /wd4291 /we4013 /we4099 /we4930 /errorReport:none /MD /O2 /Oy- /bigobj /utf-8 /permissive- /Zc:__cplusplus /Zc:sizedDealloc /volatile:iso /diagnostics:caret /std:c++17 /Gw /Gy /Zc:inline', 'cxx': 'cl: Microsoft (R) C/C++ Optimizing Compiler Version 19.31.31107 for x64', 'cxxflags': '/TP', 'linkflags': '/nologo /DEBUG /INCREMENTAL:NO /LARGEADDRESSAWARE /OPT:REF', 'target_arch': 'x86_64', 'target_os': 'windows', 'cppdefines': 'SAFEINT_USE_INTRINSICS 0 PCRE_STATIC NDEBUG BOOST_ALL_NO_LIB _UNICODE UNICODE _SILENCE_CXX17_ALLOCATOR_VOID_DEPRECATION_WARNING _SILENCE_CXX17_OLD_ALLOCATOR_MEMBERS_DEPRECATION_WARNING _SILENCE_CXX17_CODECVT_HEADER_DEPRECATION_WARNING _SILENCE_ALL_CXX20_DEPRECATION_WARNINGS _CONSOLE _CRT_SECURE_NO_WARNINGS _ENABLE_EXTENDED_ALIGNED_STORAGE _SCL_SECURE_NO_WARNINGS _WIN32_WINNT 0x0A00 BOOST_USE_WINAPI_VERSION 0x0A00 NTDDI_VERSION 0x0A000000 BOOST_THREAD_VERSION 5 BOOST_THREAD_USES_DATETIME BOOST_SYSTEM_NO_DEPRECATED BOOST_MATH_NO_LONG_DOUBLE_MATH_FUNCTIONS BOOST_ENABLE_ASSERT_DEBUG_HANDLER BOOST_LOG_NO_SHORTHAND_NAMES BOOST_LOG_USE_NATIVE_SYSLOG BOOST_LOG_WITHOUT_THREAD_ATTR ABSL_FORCE_ALIGNED_ACCESS'}, 'bits': 64, 'debug': False, 'maxBsonObjectSize': 16777216, 'storageEngines': ['devnull', 'ephemeralForTest', 'wiredTiger'], 'ok': 1.0}\n"
     ]
    }
   ],
   "source": [
    "con_str = \"localhost:27017\"\n",
    "db = pymongo.MongoClient(con_str, serverSelectionTimeoutMS = 10000)\n",
    "try:\n",
    "    print(db.server_info())\n",
    "except Exception:\n",
    "    print(\"connect failed!\")"
   ]
  },
  {
   "cell_type": "code",
   "execution_count": 4,
   "id": "9d095d7a",
   "metadata": {},
   "outputs": [
    {
     "data": {
      "text/plain": [
       "['admin',\n",
       " 'config',\n",
       " 'db_Weibo_SH0331',\n",
       " 'db_Weibo_SH_0331_All',\n",
       " 'db_tvcgR3',\n",
       " 'db_weiboDB',\n",
       " 'local',\n",
       " 'test',\n",
       " 'weiboInfoAll']"
      ]
     },
     "execution_count": 4,
     "metadata": {},
     "output_type": "execute_result"
    }
   ],
   "source": [
    "# 查询数据库中所有数据库的名称\n",
    "db_names = db.list_database_names()\n",
    "db_names"
   ]
  },
  {
   "cell_type": "code",
   "execution_count": 4,
   "id": "86bf39da",
   "metadata": {},
   "outputs": [],
   "source": [
    "# 导入所有数据\n",
    "def load_data_fromCsv(path):\n",
    "\n",
    "    weiboDataByOpen8Csv = list()  # ③ 用open和csv.reader读取得到的webo数据\n",
    "\n",
    "    with open(path, encoding='utf-8-sig') as f:\n",
    "\n",
    "        next(f)  # 跳过标题行\n",
    "        for row in csv.reader(f, skipinitialspace=True):\n",
    "\n",
    "            item = row[0]\n",
    "            index = row[1]\n",
    "            title8content = row[2]\n",
    "            OrgOrFwd = row[3]\n",
    "            date = row[4]\n",
    "            orgContent = row[5]\n",
    "            AuthType = row[6]\n",
    "            SourceRegion = row[7]\n",
    "            city = row[8]\n",
    "            gender = row[9]\n",
    "            MD5_author = row[10]\n",
    "            MD5_author_ID = row[11]\n",
    "            MD5_mid = row[12]\n",
    "            author = row[13]\n",
    "            mediumType = row[14]\n",
    "\n",
    "            doc = dict()  # 创建表示文档的字典（一个文档就算1条数据）\n",
    "\n",
    "            doc['item'] = item\n",
    "            doc['index'] = index\n",
    "            doc['title8content'] = title8content\n",
    "            doc['OrgOrFwd'] = OrgOrFwd\n",
    "            doc['date'] = date\n",
    "            doc['orgContent'] = orgContent\n",
    "            doc['AuthType'] = AuthType\n",
    "            doc['SourceRegion'] = SourceRegion\n",
    "            doc['city'] = city\n",
    "            doc['gender'] = gender\n",
    "            doc['MD5_author'] = MD5_author\n",
    "            doc['MD5_author_ID'] = MD5_author_ID\n",
    "            doc['MD5_mid'] = MD5_mid\n",
    "            doc['author'] = author\n",
    "            doc['mediumType'] = mediumType\n",
    "\n",
    "            weiboDataByOpen8Csv.append(doc)\n",
    "    return weiboDataByOpen8Csv"
   ]
  },
  {
   "cell_type": "code",
   "execution_count": 5,
   "id": "8c8234c5",
   "metadata": {},
   "outputs": [],
   "source": [
    "import csv\n",
    "import pymongo\n",
    "\n",
    "if __name__ == '__main__':\n",
    "\n",
    "    weboData = load_data_fromCsv(r'E:\\sns_data\\Weibo_SH_0331_All\\Weibo_SH_0331.csv')\n",
    "\n",
    "    # print(weboData[0])\n",
    "    \n",
    "    # 连接数据库\n",
    "    db = pymongo.MongoClient(\"mongodb://localhost:27017/\")\n",
    "    db_weibo_SH = db[\"db_Weibo_SH0331\"]\n",
    "\n",
    "    # 数据库里的表（集合）\n",
    "    col_weiboSH0331 = db_weibo_SH[\"col_Weibo_SH0331\"]\n",
    "    \n",
    "    col_weiboSH0331.insert_many(weboData)"
   ]
  },
  {
   "cell_type": "code",
   "execution_count": 14,
   "id": "2cde5a41",
   "metadata": {},
   "outputs": [
    {
     "name": "stdout",
     "output_type": "stream",
     "text": [
      "62fc6990f8180a03b21c2a79\n",
      "2022-03-31 00:00:00\n",
      "62fc69b0f8180a03b229f604\n",
      "2022-03-31 19:51:00\n",
      "<class 'dict'>\n"
     ]
    }
   ],
   "source": [
    "# 打印两条记录看看导入状况和数据状态\n",
    "egRec1 = col_weiboSH0331.find_one()\n",
    "print(egRec1['_id'])\n",
    "print(egRec1['date'])\n",
    "# print(egRec1['title8content'])\n",
    "# print(egRec1['orgContent'])\n",
    "\n",
    "\n",
    "egRec2 = col_weiboSH0331.find_one({'item' : \"904075\"})\n",
    "print(egRec2['_id'])\n",
    "print(egRec2['date'])\n",
    "print(type(egRec2))"
   ]
  },
  {
   "cell_type": "code",
   "execution_count": 15,
   "id": "8a2395f0",
   "metadata": {},
   "outputs": [
    {
     "name": "stdout",
     "output_type": "stream",
     "text": [
      "dict_keys(['_id', 'item', 'index', 'title8content', 'OrgOrFwd', 'date', 'orgContent', 'AuthType', 'SourceRegion', 'city', 'gender', 'MD5_author', 'MD5_author_ID', 'MD5_mid', 'author', 'mediumType'])\n"
     ]
    }
   ],
   "source": [
    "# 查看当前集合现存的所有字段\n",
    "print(col_weiboSH0331.find_one().keys())"
   ]
  },
  {
   "cell_type": "markdown",
   "id": "a79d2955",
   "metadata": {},
   "source": [
    "### 下面分时段处理，首先要新建一个时段（列名），保存每天记录所在的时段（单位：1 Hour）\n",
    "> 后来发现，不用新建字段，只需要在处理数据的时候，直接操作字段即可（系统会新建不存在的字段）"
   ]
  },
  {
   "cell_type": "code",
   "execution_count": 16,
   "id": "5070b7ec",
   "metadata": {},
   "outputs": [
    {
     "name": "stdout",
     "output_type": "stream",
     "text": [
      "不存在，已新增！\n"
     ]
    }
   ],
   "source": [
    "# 新建一个字段（timePeriod）\n",
    "isExistsTimePeriod = col_weiboSH0331.find_one({\"timePeriod\": {'$exists': True}})\n",
    "\n",
    "if not isExistsTimePeriod:\n",
    "    for c in col_weiboSH0331.find():\n",
    "        col_weiboSH0331.update_one({'_id': c['_id']}, {'$set': {'timePeriod': list()}})\n",
    "    print(\"不存在，已新增！\")\n",
    "else:\n",
    "    print(\"已存在，未改动！\")"
   ]
  },
  {
   "cell_type": "code",
   "execution_count": 17,
   "id": "d9aeaa09",
   "metadata": {},
   "outputs": [
    {
     "name": "stdout",
     "output_type": "stream",
     "text": [
      "dict_keys(['_id', 'item', 'index', 'title8content', 'OrgOrFwd', 'date', 'orgContent', 'AuthType', 'SourceRegion', 'city', 'gender', 'MD5_author', 'MD5_author_ID', 'MD5_mid', 'author', 'mediumType', 'timePeriod'])\n",
      "1055876\n"
     ]
    }
   ],
   "source": [
    "# （新建timePeriod之后，再次）查看当前集合现存的所有字段\n",
    "print(col_weiboSH0331.find_one().keys())\n",
    "\n",
    "# 打印当前集合的记录总数\n",
    "print(col_weiboSH0331.count_documents({}))  "
   ]
  },
  {
   "cell_type": "markdown",
   "id": "258b2cfa",
   "metadata": {},
   "source": [
    "### 收获总结\n",
    "> ① 想要把数据处理后，保存过程中产生的变量，不需要新建字段，直接操作对应集合的“新字段”就可以，系统会默认创建 <br>\n",
    "> ② Markdown的语法记录之一：内置换行可用HTML标签`<br>` <br>\n",
    "> ③ pymongo 和 MongoDB的语法不一样，mongodb的操作手册，并不能精准解决pymongo的问题。查看帮助手册的通用方法如下：\n",
    "> * **首先**，查看工具包的版本：`pip show pymongo` -> `Version: 4.2.0`\n",
    "> * **然后**，根据工具包版本搜索关键词（关键词要指向明确，比如pymongo，不是mongo，不是mongoDB）: `pymongo 4.2 文档`\n",
    "> * **最后**，查手册，还是需要精准搜索，比如**我想查询mongodb数据库内部的集合/表的记录书目 <br>\n",
    "（在网上检索一番后，或者自己根据经验，输入英文关键词：count）**\n",
    "> * 得到手册中的指向解决方案：`.count_documents({})`，即最新的查看集合中记录总数的语句 <br>"
   ]
  },
  {
   "cell_type": "code",
   "execution_count": null,
   "id": "4b1cbb89",
   "metadata": {},
   "outputs": [],
   "source": []
  }
 ],
 "metadata": {
  "kernelspec": {
   "display_name": "Python 3 (ipykernel)",
   "language": "python",
   "name": "python3"
  },
  "language_info": {
   "codemirror_mode": {
    "name": "ipython",
    "version": 3
   },
   "file_extension": ".py",
   "mimetype": "text/x-python",
   "name": "python",
   "nbconvert_exporter": "python",
   "pygments_lexer": "ipython3",
   "version": "3.9.7"
  }
 },
 "nbformat": 4,
 "nbformat_minor": 5
}
