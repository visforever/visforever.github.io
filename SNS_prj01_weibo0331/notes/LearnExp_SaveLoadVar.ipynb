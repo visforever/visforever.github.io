{
 "cells": [
  {
   "cell_type": "markdown",
   "id": "82a8f7ef",
   "metadata": {},
   "source": [
    "## 保存 & 读取本地变量（两种方法）\n",
    "### ①使用pickle@`save_variable1(v, filename)`， `load_variavle1(filename)`\n",
    "可以保存原变量的类型，*save函数执行写文件，可以返回文件路径；load函数可以返回维持原类型的变量，`e.g., 原来是字典，返回还是字典`*\n",
    "### ②使用read, write@`save_variable2(v, filename)`， `load_variavle2(filename)`\n",
    "只能作为字符串查看，*save函数执行写文件，可以返回文件路径；load函数统一返回字符串*"
   ]
  },
  {
   "cell_type": "code",
   "execution_count": 2,
   "id": "7d3614fb",
   "metadata": {},
   "outputs": [],
   "source": [
    "import pickle\n",
    "# Input: 变量名，保存路径\n",
    "# Output: 保存路径\n",
    "def save_variable1(v, filename):\n",
    "    f = open(filename, 'wb')\n",
    "    pickle.dump(v, f, 0)  # 在dump()里加上第三个参数，设为0(ASCII协议).\n",
    "    f.close()\n",
    "    return filename"
   ]
  },
  {
   "cell_type": "code",
   "execution_count": 3,
   "id": "ff4f9ba9",
   "metadata": {},
   "outputs": [],
   "source": [
    "# Input: 保存的变量路径\n",
    "# Output: 变量\n",
    "def load_variable1(filename):\n",
    "    f = open(filename, 'rb')\n",
    "    r = pickle.load(f)\n",
    "    f.close()\n",
    "    return r"
   ]
  },
  {
   "cell_type": "code",
   "execution_count": 4,
   "id": "5b208461",
   "metadata": {},
   "outputs": [],
   "source": [
    "def save_variable2(v, filename):\n",
    "    try: \n",
    "        # f = open('test001.txt','w',encoding='utf-8') #open 打开要写入的文件，'w'就是写入的意思，如果有中文encoding进行编码\n",
    "        with open(filename,'w',encoding='utf-8') as f:\n",
    "            f.write(v)  # write是写入的意思，将（）中的内容写入到f文件里\n",
    "            \n",
    "    # 无论try中的程序是否存在报错，则都执行下面的关闭\n",
    "    finally: \n",
    "        if f:  # 判断下f是否打开了，如果没打开则不需要关闭，打开了则关闭\n",
    "            f.close()\n",
    "    return filename"
   ]
  },
  {
   "cell_type": "code",
   "execution_count": 5,
   "id": "bfcb1baf",
   "metadata": {},
   "outputs": [],
   "source": [
    "def load_variable2(filename):\n",
    "    # 首先try一下，如果程序打开以及在打开后读取一系列操作后有报错，则不中断程序\n",
    "    try:  \n",
    "        # f = open(filename, 'r', encoding='utf-8')\n",
    "        with open(filename, 'r', encoding='utf-8') as f:\n",
    "            strContent = f.read()\n",
    "    # 无论try中的程序是否存在报错，则都执行下面的关闭\n",
    "    finally:  \n",
    "        if f:  # 判断下f是否打开了，如果没打开则不需要关闭，打开了则关闭\n",
    "            f.close()\n",
    "    return strContent"
   ]
  }
 ],
 "metadata": {
  "kernelspec": {
   "display_name": "Python 3 (ipykernel)",
   "language": "python",
   "name": "python3"
  },
  "language_info": {
   "codemirror_mode": {
    "name": "ipython",
    "version": 3
   },
   "file_extension": ".py",
   "mimetype": "text/x-python",
   "name": "python",
   "nbconvert_exporter": "python",
   "pygments_lexer": "ipython3",
   "version": "3.9.7"
  }
 },
 "nbformat": 4,
 "nbformat_minor": 5
}
