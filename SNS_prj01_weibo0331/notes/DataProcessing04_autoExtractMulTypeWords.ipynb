{
 "cells": [
  {
   "cell_type": "markdown",
   "id": "356d1e02",
   "metadata": {},
   "source": [
    "## 本段程序简介（实际操作起来感觉非常耗时，分析原因在于调用的内置函数，待优化ing）\n",
    "> 功能：使用自动化、多线程，同时处理24个集合。<br>\n",
    "> 目标：将24个集合（包含了24个小时的发文内容）中的每条记录进行清洗 & 信息提取"
   ]
  },
  {
   "cell_type": "markdown",
   "id": "58584761",
   "metadata": {},
   "source": [
    "## 数据清洗（总结下来需要清洗的对象）\n",
    "> 停用词过滤\n",
    "> * 使用停用词表\n",
    "标点符号过滤（包括`标点符号、标签、空字符串`）\n",
    "> * 使用标点符号表\n",
    "表情过滤（表情的一般表示：[表情]）\n",
    "> * 使用正则表达式即可简单过滤\n",
    "广告（http://xxxxx)：视频、音频、其他链接\n",
    "> * 使用正则表达式删除\n",
    "\n",
    "\n",
    "> 无效词过滤\n",
    "> * 阈值为3（出现次数小于3的）\n",
    "> * 思路：是否可以把词频图做出来，取中间段？\n",
    "\n",
    "> 其他\n",
    "> * 缺失值、补全缺失值\n",
    "> * 乱码数据、修正乱码\n",
    "> * 异常数据、格式规范化"
   ]
  },
  {
   "cell_type": "markdown",
   "id": "59119306",
   "metadata": {},
   "source": [
    "**后续步骤**（`提取`的操作，都会将对应的value放到新字段中）\n",
    "* Step1. 提取人名、地名\n",
    "* Step2. 去除网址\n",
    "* Step3. 提取话题，删除话题\n",
    "* Step4. 提取用户，删除用户\n",
    "* Step5. 去除表情\n",
    "* Step6. 提取关键词（不用停用词表进行分词了）"
   ]
  },
  {
   "cell_type": "code",
   "execution_count": 1,
   "id": "fb6f2d5d",
   "metadata": {},
   "outputs": [
    {
     "name": "stdout",
     "output_type": "stream",
     "text": [
      "['admin', 'config', 'db_Weibo_SH0331', 'db_Weibo_SH_0331_All', 'db_tvcgR3', 'db_weiboDB', 'local', 'test', 'weiboInfoAll']\n",
      "db_Weibo_SH0331: 已连接！\n"
     ]
    }
   ],
   "source": [
    "import pymongo\n",
    "con_str = \"localhost:27017\"\n",
    "db = pymongo.MongoClient(con_str, serverSelectionTimeoutMS = 10000)\n",
    "try:\n",
    "    # print(db.server_info())\n",
    "    \n",
    "    # 查询数据库中所有数据库的名称\n",
    "    db_names = db.list_database_names()\n",
    "    print(db_names)\n",
    "except Exception:\n",
    "    print(\"connect failed!\")\n",
    "    \n",
    "targetDB = 'db_Weibo_SH0331'\n",
    "\n",
    "if targetDB in db_names:\n",
    "    db_Weibo_SH0331 = db['db_Weibo_SH0331']\n",
    "    print(targetDB + \": 已连接！\")"
   ]
  },
  {
   "cell_type": "markdown",
   "id": "4caf4458",
   "metadata": {},
   "source": [
    "## 两种方式实现（均已实现）：\n",
    "1. 使用自己定义停用词表；\n",
    "> * 已实现，下面是功能函数，方便以后使用\n",
    "2. 使用jieba的analyse模块；(本段程序采用此方法）\n",
    "> * 默认提取20个关键词\n",
    "> * 默认提取权重靠前的人名\n",
    "> * 默认提取权重靠前的地名"
   ]
  },
  {
   "cell_type": "markdown",
   "id": "a6cbf6dc",
   "metadata": {},
   "source": [
    "### 【opt.1】 使用jieba进行分词（1/2 读取停用词表）"
   ]
  },
  {
   "cell_type": "code",
   "execution_count": 2,
   "id": "cdb00e0b",
   "metadata": {},
   "outputs": [],
   "source": [
    "import codecs  # 编解码器模块，这里用于utf-8文件的读取\n",
    "\n",
    "# 停用词词表文件读取，函数传入文件路径，返回停用词集合\n",
    "def read_stopwords(filename):\n",
    "    # 使用codecs库来打开文件，并以utf-8的文件格式读取文件中的每一行\n",
    "    lines = codecs.open(filename, 'r', encoding='utf-8').readlines()\n",
    "    stopwords = set()  # 保存停用词的集合\n",
    "    for line in lines:  # 遍历读取词表中的每一行\n",
    "        line = line.strip()  # 将该行的首尾空字符去掉后\n",
    "        stopwords.add(line)  # 添加到集合中\n",
    "\n",
    "    return stopwords  # 返回停用词集合"
   ]
  },
  {
   "cell_type": "markdown",
   "id": "840ddedc",
   "metadata": {},
   "source": [
    "### 【opt.1】使用jieba进行分词（1/2 分词处理函数）"
   ]
  },
  {
   "cell_type": "code",
   "execution_count": 3,
   "id": "7a79f79c",
   "metadata": {},
   "outputs": [],
   "source": [
    "import jieba  # 导入jieba模块\n",
    "\n",
    "def sentencesCutting(sent, stopwords):\n",
    "    # cutInit = nltk.word_tokenize(sent)  # 初始分词结果\n",
    "    seg_result = jieba.cut(sent)  # 调用默认的精准模式进行分词\n",
    "\n",
    "    # 去除所有停用词\n",
    "    cutPun8Sw = [word for word in seg_result if word not in stopwords]   # 去除中文停用词\n",
    "\n",
    "    return cutPun8Sw"
   ]
  },
  {
   "cell_type": "markdown",
   "id": "6cbed1d5",
   "metadata": {},
   "source": [
    "### 【opt.2】分词 & 提取（`人名`，`地名`，`话题`，`用户`、除去话题和用户之外的`分词结果`）"
   ]
  },
  {
   "cell_type": "code",
   "execution_count": 2,
   "id": "a23ceb71",
   "metadata": {},
   "outputs": [],
   "source": [
    "import jieba\n",
    "import jieba.analyse  # 导入jieba的analyse模块\n",
    "\n",
    "import re\n",
    "import sys\n",
    "\n",
    "def filterSentences(targetCol, fields):    \n",
    "    \n",
    "    # 提取/过滤（网址、话题、用户名）\n",
    "    patternLink = re.compile(r'((http|https|ftp|ftps):\\/\\/)?([a-zA-Z0-9-]+\\.){1,5}(com|cn|net|org|hk|tw)((\\/(\\w|-)+(\\.([a-zA-Z]+))?)+)?(\\/)?(\\??([\\.%:a-zA-Z0-9_-]+=[#\\.%:a-zA-Z0-9_-]+(&amp;)?)+)?')\n",
    "    patternTopic = re.compile(r\"\\#(.+?)\\#\")\n",
    "    patternUsers = re.compile(r'@([\\u4e00-\\u9fa5\\w\\-]+)')\n",
    "    \n",
    "    exec(targetCol + \" = db_Weibo_SH0331['\" + targetCol+ \"']\")\n",
    "    exec(\"recs = \" + targetCol + \".find()\")    \n",
    "    \n",
    "    loc = locals()\n",
    "    for c in loc['recs']: \n",
    "        id = c['_id']\n",
    "        \n",
    "        # 操作博文主题/内容 ------------------------------\n",
    "        title = c['title8content'] \n",
    "        # 操作博文原始内容 ------------------------------\n",
    "        orgCon = c['orgContent']\n",
    "        \n",
    "        plusTxt = title + orgCon\n",
    "        \n",
    "        plusTxt = re.sub(patternLink, \"\", plusTxt) # 去除网址\n",
    "        plusTxt = re.sub(r\"\\[(.+?)\\]\", \"\", plusTxt)  # 去除表情\n",
    "        personsName = jieba.analyse.extract_tags(plusTxt,allowPOS=('nr',))  # ●\n",
    "        placesName = jieba.analyse.extract_tags(plusTxt,allowPOS=('ns',))  # ●\n",
    "        resTopic = patternTopic.findall(plusTxt)  # 提取plusTxt中的话题 # ●\n",
    "        # plusTxt = re.sub(patternTopic, \"\", plusTxt)  # 删除plusTxt中的话题\n",
    "        resUsers = patternUsers.findall(plusTxt)  # 提取plusTxt中的用户 # ●\n",
    "        # plusTxt = re.sub(patternUsers, \"\", plusTxt)  # 删除plusTxt中的用户\n",
    "        kWords = jieba.analyse.extract_tags(plusTxt) # ●\n",
    "        \n",
    "        f1 = fields[0]  # personsName\n",
    "        f2 = fields[1]  # placesName\n",
    "        f3 = fields[2]  # resTopic\n",
    "        f4 = fields[3]  # resUsers\n",
    "        f5 = fields[4]  # kWords\n",
    "        \n",
    "        '''\n",
    "        if not c.get(f1):  # 判断当前字段的值是否为空，等同于( if c['titleCutting'] == [] )\n",
    "            exec(targetCol + \".update_one({'_id': id}, {'$set': {'\" + f1 + \"': personsName}})\")\n",
    "        \n",
    "        if not c.get(f2):\n",
    "            exec(targetCol + \".update_one({'_id': id}, {'$set': {'\" + f2 + \"': placesName}})\")\n",
    "\n",
    "        if not c.get(f3):\n",
    "            exec(targetCol + \".update_one({'_id': id}, {'$set': {'\" + f3 + \"': resTopic}})\")\n",
    "            \n",
    "        if not c.get(f4):\n",
    "            exec(targetCol + \".update_one({'_id': id}, {'$set': {'\" + f4 + \"': resUsers}})\")\n",
    "            \n",
    "        if not c.get(f5):\n",
    "            exec(targetCol + \".update_one({'_id': id}, {'$set': {'\" + f5 + \"': kWords}})\")\n",
    "        '''\n",
    "        \n",
    "        exec(targetCol + \".update_one({'_id': id}, {'$set': {'\" + f1 + \"': personsName}})\")\n",
    "        exec(targetCol + \".update_one({'_id': id}, {'$set': {'\" + f2 + \"': placesName}})\")\n",
    "        exec(targetCol + \".update_one({'_id': id}, {'$set': {'\" + f3 + \"': resTopic}})\")\n",
    "        exec(targetCol + \".update_one({'_id': id}, {'$set': {'\" + f4 + \"': resUsers}})\")\n",
    "        exec(targetCol + \".update_one({'_id': id}, {'$set': {'\" + f5 + \"': kWords}})\")"
   ]
  },
  {
   "cell_type": "code",
   "execution_count": 3,
   "id": "0e136d3e",
   "metadata": {},
   "outputs": [],
   "source": [
    "import threading\n",
    "import time\n",
    "\n",
    "class myThread(threading.Thread):\n",
    "    def __init__(self, threadName, targetCol, fields):\n",
    "        threading.Thread.__init__(self)\n",
    "        self.threadName = threadName\n",
    "        self.targetCol = targetCol\n",
    "        self.fields = fields\n",
    "        \n",
    "    def run(self):\n",
    "        print (\"开始线程：\" + str(self.threadName))\n",
    "        filterSentences(self.targetCol, self.fields)\n",
    "        print (\"退出线程：\" + str(self.threadName))"
   ]
  },
  {
   "cell_type": "code",
   "execution_count": null,
   "id": "64d9b6db",
   "metadata": {},
   "outputs": [
    {
     "name": "stderr",
     "output_type": "stream",
     "text": [
      "Building prefix dict from the default dictionary ...\n",
      "Loading model from cache C:\\Users\\t\\AppData\\Local\\Temp\\jieba.cache\n"
     ]
    },
    {
     "name": "stdout",
     "output_type": "stream",
     "text": [
      "开始线程：col0\n",
      "开始线程：col1\n",
      "开始线程：col2开始线程：col3\n",
      "\n",
      "开始线程：col4\n",
      "开始线程：col5\n",
      "开始线程：col6\n",
      "开始线程：col7\n",
      "开始线程：col8\n",
      "开始线程：col9\n",
      "开始线程：col10\n",
      "开始线程：col11\n",
      "开始线程：col12\n",
      "开始线程：col13\n",
      "开始线程：col14开始线程：col15\n",
      "\n",
      "开始线程：col16\n",
      "开始线程：col17\n",
      "开始线程：col18\n",
      "开始线程：col19\n",
      "开始线程：col20\n",
      "开始线程：col21\n",
      "开始线程：col22\n",
      "开始线程：col23\n"
     ]
    },
    {
     "name": "stderr",
     "output_type": "stream",
     "text": [
      "Loading model cost 2.361 seconds.\n",
      "Prefix dict has been built successfully.\n"
     ]
    }
   ],
   "source": [
    "# 用继承实现的线程（对比实验：用多线程操作）\n",
    "import time\n",
    "\n",
    "if __name__ == '__main__':\n",
    "    \n",
    "    startTime = time.time()\n",
    "    \n",
    "    # 循环处理24个集合\n",
    "    subCol24 = list()\n",
    "    subCol24.append([\"col_weibo_timePeriod_\" + str(period) for period in range(0, 24)])\n",
    "    colPackages = subCol24[0]\n",
    "    \n",
    "    fields = ['personsName', 'placesName', 'resTopic', 'resUsers', 'kWords']\n",
    "    \n",
    "    threads = []\n",
    "    for i in range(0, len(colPackages)):\n",
    "        t = myThread(\"col\" + str(i), colPackages[i], fields)\n",
    "        t.start()\n",
    "        threads.append(t)\n",
    "        \n",
    "    [thread.join() for thread in threads]\n",
    "    print (\"退出主线程\")\n",
    "    \n",
    "    endTime = time.time()    \n",
    "    print(\"Time consuming(s): %.2f\" % (endTime - startTime))"
   ]
  },
  {
   "cell_type": "code",
   "execution_count": null,
   "id": "deb030dd",
   "metadata": {},
   "outputs": [],
   "source": []
  }
 ],
 "metadata": {
  "kernelspec": {
   "display_name": "Python 3 (ipykernel)",
   "language": "python",
   "name": "python3"
  },
  "language_info": {
   "codemirror_mode": {
    "name": "ipython",
    "version": 3
   },
   "file_extension": ".py",
   "mimetype": "text/x-python",
   "name": "python",
   "nbconvert_exporter": "python",
   "pygments_lexer": "ipython3",
   "version": "3.9.7"
  }
 },
 "nbformat": 4,
 "nbformat_minor": 5
}
