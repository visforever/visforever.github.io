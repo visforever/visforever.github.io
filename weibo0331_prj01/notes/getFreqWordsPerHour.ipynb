{
 "cells": [
  {
   "cell_type": "markdown",
   "id": "3fe1fe61",
   "metadata": {},
   "source": [
    "## 保存 & 读取本地变量\n",
    "### ①使用pickle@`save_variable1(v, filename)`， `load_variavle1(filename)`\n",
    "#### 可以保存原变量的类型，*save函数执行写文件，可以返回文件路径；load函数可以返回维持原类型的变量，`e.g., 原来是字典，返回还是字典`*\n",
    "### ②使用read, write@`save_variable2(v, filename)`， `load_variavle2(filename)`\n",
    "#### 只能作为字符串查看，*save函数执行写文件，可以返回文件路径；load函数统一返回字符串*"
   ]
  },
  {
   "cell_type": "code",
   "execution_count": 130,
   "id": "86c2264b",
   "metadata": {},
   "outputs": [],
   "source": [
    "import pickle\n",
    "# Input: 变量名，保存路径\n",
    "# Output: 保存路径\n",
    "def save_variable1(v, filename):\n",
    "    f = open(filename, 'wb')\n",
    "    pickle.dump(v, f, 0)  # 在dump()里加上第三个参数，设为0(ASCII协议).\n",
    "    f.close()\n",
    "    return filename"
   ]
  },
  {
   "cell_type": "code",
   "execution_count": 131,
   "id": "0d0d1a96",
   "metadata": {},
   "outputs": [],
   "source": [
    "# Input: 保存的变量路径\n",
    "# Output: 变量\n",
    "def load_variable1(filename):\n",
    "    f = open(filename, 'rb')\n",
    "    r = pickle.load(f)\n",
    "    f.close()\n",
    "    return r"
   ]
  },
  {
   "cell_type": "code",
   "execution_count": 132,
   "id": "34812bb1",
   "metadata": {},
   "outputs": [],
   "source": [
    "def save_variable2(v, filename):\n",
    "    try: \n",
    "        # f = open('test001.txt','w',encoding='utf-8') #open 打开要写入的文件，'w'就是写入的意思，如果有中文encoding进行编码\n",
    "        with open(filename,'w',encoding='utf-8') as f:\n",
    "            f.write(v)  # write是写入的意思，将（）中的内容写入到f文件里\n",
    "            \n",
    "    # 无论try中的程序是否存在报错，则都执行下面的关闭\n",
    "    finally: \n",
    "        if f:  # 判断下f是否打开了，如果没打开则不需要关闭，打开了则关闭\n",
    "            f.close()\n",
    "    return filename"
   ]
  },
  {
   "cell_type": "code",
   "execution_count": 133,
   "id": "1fab3197",
   "metadata": {},
   "outputs": [],
   "source": [
    "def load_variable2(filename):\n",
    "    # 首先try一下，如果程序打开以及在打开后读取一系列操作后有报错，则不中断程序\n",
    "    try:  \n",
    "        # f = open(filename, 'r', encoding='utf-8')\n",
    "        with open(filename, 'r', encoding='utf-8') as f:\n",
    "            strContent = f.read()\n",
    "    # 无论try中的程序是否存在报错，则都执行下面的关闭\n",
    "    finally:  \n",
    "        if f:  # 判断下f是否打开了，如果没打开则不需要关闭，打开了则关闭\n",
    "            f.close()\n",
    "    return strContent"
   ]
  },
  {
   "cell_type": "markdown",
   "id": "59710783",
   "metadata": {},
   "source": [
    "## 多线程 vs 不用线程\n",
    "（处理24小时的词频，提取每小时top200的高频词，并保存在文件中）"
   ]
  },
  {
   "cell_type": "code",
   "execution_count": 1,
   "id": "d4255da5",
   "metadata": {},
   "outputs": [
    {
     "name": "stdout",
     "output_type": "stream",
     "text": [
      "['admin', 'config', 'db_Weibo_SH_0331_All', 'db_tvcgR3', 'db_weiboDB', 'local', 'test', 'weiboInfoAll']\n",
      "db_Weibo_SH_0331_All: 已连接！\n"
     ]
    }
   ],
   "source": [
    "import pymongo\n",
    "con_str = \"localhost:27017\"\n",
    "db = pymongo.MongoClient(con_str, serverSelectionTimeoutMS = 10000)\n",
    "try:\n",
    "    # print(db.server_info())\n",
    "    \n",
    "    # 查询数据库中所有数据库的名称\n",
    "    db_names = db.list_database_names()\n",
    "    print(db_names)\n",
    "except Exception:\n",
    "    print(\"connect failed!\")\n",
    "    \n",
    "targetDB = 'db_Weibo_SH_0331_All'\n",
    "\n",
    "if targetDB in db_names:\n",
    "    db_Weibo_SH_0331_All = db['db_Weibo_SH_0331_All']\n",
    "    print(targetDB + \": 已连接！\")"
   ]
  },
  {
   "cell_type": "markdown",
   "id": "9e7d40db",
   "metadata": {},
   "source": [
    "### 小规模测试 ---------------------------------- start ↓\n",
    "* 提取高频词\n",
    "* 做出词频图\n",
    "* 词云图"
   ]
  },
  {
   "cell_type": "code",
   "execution_count": 2,
   "id": "b212f83c",
   "metadata": {},
   "outputs": [],
   "source": [
    "col_weibo_timePeriod0 = db_Weibo_SH_0331_All['col_weibo_timePeriod0']"
   ]
  },
  {
   "cell_type": "code",
   "execution_count": 3,
   "id": "e56444a0",
   "metadata": {},
   "outputs": [
    {
     "name": "stdout",
     "output_type": "stream",
     "text": [
      "items.len = 63090\n",
      "17104459\n",
      "{' ': 412126, '医院': 317327, '病人': 296959, '点': 256815, '120': 243494, '疫情': 230199, '未': 219064, '年': 191733, '小区': 190830, '30': 186022, '2022': 185598, '月': 163746, '做': 163094, '日': 162666, '救治': 149482, '救助': 145203, '离世': 144790, '804': 144579, '发作': 144578, '邻居': 124111, '这是': 112962, '孩子': 112110, '警察': 110981, '分': 110780, '救护车': 110009, '阻拦': 109875, '哮喘': 108914, '上午': 108694, '心情': 108605, '上海': 99770, '核酸': 97798, '岁': 88778, '工作': 88104, '到达': 87535, '真的': 85354, '新冠': 82503, '这位': 81252, '爸爸': 80408, '措施': 78728, '抗疫': 77797, '11': 75271, '12345': 74553, '找': 73460, '猫': 73452, '急救': 73046, '过世': 73020, '40': 72930, '开': 72924, '停': 72821, '楼下': 72731, '室': 72704, '110': 72623, '死于': 72601, '关闭': 72450, '车': 72445, '得知': 72416, '寻求': 72403, '除颤': 72388, '202': 72358, '仪': 72350, '扎堆': 72337, '警车': 72281, '到场': 72276, '殡仪': 72252, '说': 61846, '防控': 54786, '住': 51768, '浦东': 50331, '检测': 49588, '情况': 47694, '提供': 43881, '第二辆': 43268, '大白': 43035, '封控': 42765, '号': 41865, '违法': 41793, '离开': 41264, '有人': 40787, '人员': 40467, '时间': 40258, '送': 39928, '解决': 39889, '代价': 39826, '10': 39438, '12': 38883, '困难': 38801, '生命': 38597, '下午': 38536, '接到': 38487, '走': 38334, '一种': 38313, '护士': 38244, '付出': 38092, '完': 37959, '调整': 37911, '跑': 37730, '透析': 37713, '保安': 37692, '开枪': 37604, '撞': 37570}\n"
     ]
    }
   ],
   "source": [
    "targetCol = col_weibo_timePeriod0\n",
    "\n",
    "tempWords = list()  # \n",
    "tempCnt_Words = 0  # 存放当前集合中的词的总数\n",
    "\n",
    "freqWords = {}  # key(词汇)，value(词频数)\n",
    "\n",
    "for cW in targetCol.find():\n",
    "    # 函数统计词频（小规模的时候可以用list连接起来成一个大的list来实现）\n",
    "    # tempWords = tempWords + cW.get('plusCutting')  # 多个list合并为一个list\n",
    "    # tempCnt_Words = tempCnt_Words + len(cW.get('plusCutting'))  # 3273720\n",
    "\n",
    "    # 手动写词频统计函数，基于字典实现\n",
    "    currentContent = cW.get('plusCutting')\n",
    "    tempCnt_Words = tempCnt_Words + len(currentContent)  # 存放当前集合中的词的总数\n",
    "    \n",
    "    for eachWord in currentContent:\n",
    "        # print(eachWord)\n",
    "        freqWords[eachWord] = freqWords.get(eachWord, 0) + 1\n",
    "\n",
    "\n",
    "items = list(freqWords.items())  # 转换为list\n",
    "print(\"items.len = \" + str(len(items)))\n",
    "items.sort(key=lambda x: x[1], reverse=True)  # 按照词频排序\n",
    "\n",
    "wordcloudDic = dict()  # 存放前k个词 & 词频\n",
    "for i in range(100):\n",
    "    word, count = items[i]\n",
    "    wordcloudDic[word] = count\n",
    "    # print(\"{0:<20}{1:>10}\".format(word, count))\n",
    "\n",
    "print(tempCnt_Words)\n",
    "print(wordcloudDic)\n"
   ]
  },
  {
   "cell_type": "code",
   "execution_count": 4,
   "id": "6adeaeed",
   "metadata": {},
   "outputs": [
    {
     "data": {
      "image/png": "[encoded data removed]",
      "text/plain": [
       "<Figure size 432x288 with 2 Axes>"
      ]
     },
     "metadata": {
      "needs_background": "light"
     },
     "output_type": "display_data"
    }
   ],
   "source": [
    "import matplotlib.pyplot as plt\n",
    "from wordcloud import WordCloud\n",
    "\n",
    "\n",
    "plt.rcParams['font.sans-serif'] = ['SimHei']\n",
    "plt.rcParams['axes.unicode_minus'] = False\n",
    "\n",
    "x1 = list(wordcloudDic.keys())\n",
    "y1 = list(wordcloudDic.values())\n",
    "plt.subplot(211)  # 切割子图，数字含义是将整个画面切割为2行1列，当前选用第1个切割块\n",
    "plt.plot(x1, y1)\n",
    "plt.xticks(rotation=60)  # 设置x轴上的刻度旋转角度\n",
    "plt.ylabel('次数')\n",
    "plt.title('频次图')\n",
    "\n",
    "plt.subplot(212)  # 切割子图，数字含义是将整个画面切割为2行1列，当前选用第2个切割块\n",
    "plt.bar(x1, y1)\n",
    "plt.xticks(rotation=60)  # 设置x轴上的刻度旋转角度\n",
    "plt.xlabel('关键词')\n",
    "plt.ylabel('次数')\n",
    "plt.savefig('E:\\\\picture_bar_line.jpg',dpi=500)"
   ]
  },
  {
   "cell_type": "code",
   "execution_count": 10,
   "id": "e4894605",
   "metadata": {},
   "outputs": [
    {
     "data": {
      "text/plain": [
       "<wordcloud.wordcloud.WordCloud at 0x281d30d9970>"
      ]
     },
     "execution_count": 10,
     "metadata": {},
     "output_type": "execute_result"
    }
   ],
   "source": [
    "import matplotlib.pyplot as plt\n",
    "from wordcloud import WordCloud\n",
    "from PIL import ImageFont\n",
    "\n",
    "\n",
    "# plt.rcParams['font.sans-serif'] = ['SimHei']\n",
    "# plt.rcParams['axes.unicode_minus'] = False\n",
    "\n",
    "# x1 = list(wordcloudDic.keys())\n",
    "# y1 = list(wordcloudDic.values())\n",
    "# plt.subplot(211)  # 切割子图，数字含义是将整个画面切割为2行1列，当前选用第1个切割块\n",
    "# plt.plot(x1, y1)\n",
    "# plt.xticks(rotation=60)  # 设置x轴上的刻度旋转角度\n",
    "# plt.ylabel('次数')\n",
    "# plt.title('频次图')\n",
    "\n",
    "# plt.subplot(212)  # 切割子图，数字含义是将整个画面切割为2行1列，当前选用第2个切割块\n",
    "# plt.bar(x1, y1)\n",
    "# plt.xticks(rotation=60)  # 设置x轴上的刻度旋转角度\n",
    "# plt.xlabel('关键词')\n",
    "# plt.ylabel('次数')\n",
    "\n",
    "font = 'msyh.ttc'\n",
    "wc = WordCloud(\n",
    "    background_color='white',  # 设置背景色，默认为黑色\n",
    "    font_path=font,  # 指定文字路径\n",
    "    width=500,  # 设置背景宽\n",
    "    height=350,  # 设置背景高\n",
    "    max_font_size=50,  # 最大字体\n",
    "    min_font_size=10,  # 最小字体\n",
    "    mode='RGBA'  # 当参数为“RGBA”并且background_color不为空时，背景为透明\n",
    ")\n",
    "\n",
    "wc.generate_from_frequencies(wordcloudDic)\n",
    "wc.to_file(\"词云测试.png\")\n",
    "\n",
    "# plt.imshow(wc)\n",
    "# plt.axis('off')\n",
    "# # plt.show()\n",
    "\n",
    "# plt.savefig('E:\\\\picture_wordcloud.jpg',dpi=500)"
   ]
  },
  {
   "cell_type": "markdown",
   "id": "4c97b674",
   "metadata": {},
   "source": [
    "### 小规模测试 ---------------------------------- end ↑"
   ]
  },
  {
   "cell_type": "markdown",
   "id": "5b5917a8",
   "metadata": {},
   "source": [
    "## 批量处理*`词频统计`*"
   ]
  },
  {
   "cell_type": "code",
   "execution_count": 134,
   "id": "412798db",
   "metadata": {},
   "outputs": [],
   "source": [
    "# key：集合的名称\n",
    "# value: 集合中所有词的数量，不一样的词的数量，词频字典\n",
    "\n",
    "# wordFreqDict = {\n",
    "#     'col_weibo_timePeriod0' : [17104459, 63090, {'抗疫': 77797, '11': 75271, '12345': 74553, ...}]\n",
    "#     'col_weibo_timePeriod1' : [14104454, 6308, {'疫情': 77797, '11': 75271, '12345': 74553, ...}]\n",
    "# }\n",
    "\n",
    "def computeWordFreq(targetCol, wordFreqDict, topK):\n",
    "    \n",
    "    wordFreqDict[targetCol] = list()\n",
    "    \n",
    "    exec(targetCol + \" = db_Weibo_SH_0331_All['\" + targetCol+ \"']\")\n",
    "    exec(\"recs = \" + targetCol + \".find()\")\n",
    "    loc = locals()\n",
    "    \n",
    "    tempCnt_Words = 0  # ●1 存放当前集合中的词的总数\n",
    "\n",
    "    freqWords = {}  # key(词汇)，value(词频数)\n",
    "\n",
    "    for cW in loc['recs']:\n",
    "        # 手动写词频统计函数，基于字典实现\n",
    "        currentContent = cW.get('plusCutting')\n",
    "        tempCnt_Words = tempCnt_Words + len(currentContent)  # 存放当前集合中的词的总数\n",
    "\n",
    "        for eachWord in currentContent:\n",
    "            freqWords[eachWord] = freqWords.get(eachWord, 0) + 1\n",
    "\n",
    "    items = list(freqWords.items())  # 转换为list\n",
    "    # print(\"items.len = \" + str(len(items)))  # ●2 不一样的词的个数\n",
    "    items.sort(key=lambda x: x[1], reverse=True)  # 按照词频排序\n",
    "\n",
    "    wordcloudDic = dict()  # ●3 存放前k个词 & 词频\n",
    "    for i in range(topK):\n",
    "        word, count = items[i]\n",
    "        wordcloudDic[word] = count\n",
    "        # print(\"{0:<20}{1:>10}\".format(word, count))\n",
    "        \n",
    "    wordFreqDict[targetCol].append(tempCnt_Words)\n",
    "    wordFreqDict[targetCol].append(len(items))\n",
    "    wordFreqDict[targetCol].append(wordcloudDic)\n",
    "\n"
   ]
  },
  {
   "cell_type": "code",
   "execution_count": 137,
   "id": "0903d9b3",
   "metadata": {
    "collapsed": true
   },
   "outputs": [
    {
     "name": "stdout",
     "output_type": "stream",
     "text": [
      "['col_weibo_timePeriod0', 'col_weibo_timePeriod1', 'col_weibo_timePeriod2', 'col_weibo_timePeriod3', 'col_weibo_timePeriod4', 'col_weibo_timePeriod5', 'col_weibo_timePeriod6', 'col_weibo_timePeriod7', 'col_weibo_timePeriod8', 'col_weibo_timePeriod9', 'col_weibo_timePeriod10', 'col_weibo_timePeriod11', 'col_weibo_timePeriod12', 'col_weibo_timePeriod13', 'col_weibo_timePeriod14', 'col_weibo_timePeriod15', 'col_weibo_timePeriod16', 'col_weibo_timePeriod17', 'col_weibo_timePeriod18', 'col_weibo_timePeriod19', 'col_weibo_timePeriod20', 'col_weibo_timePeriod21', 'col_weibo_timePeriod22', 'col_weibo_timePeriod23']\n",
      "col_weibo_timePeriod0\n",
      "col_weibo_timePeriod1\n",
      "col_weibo_timePeriod2\n",
      "col_weibo_timePeriod3\n",
      "col_weibo_timePeriod4\n",
      "col_weibo_timePeriod5\n",
      "col_weibo_timePeriod6\n",
      "col_weibo_timePeriod7\n",
      "col_weibo_timePeriod8\n",
      "col_weibo_timePeriod9\n",
      "col_weibo_timePeriod10\n",
      "col_weibo_timePeriod11\n",
      "col_weibo_timePeriod12\n",
      "col_weibo_timePeriod13\n",
      "col_weibo_timePeriod14\n",
      "col_weibo_timePeriod15\n",
      "col_weibo_timePeriod16\n",
      "col_weibo_timePeriod17\n",
      "col_weibo_timePeriod18\n",
      "col_weibo_timePeriod19\n",
      "col_weibo_timePeriod20\n",
      "col_weibo_timePeriod21\n",
      "col_weibo_timePeriod22\n",
      "col_weibo_timePeriod23\n",
      "---------------> Time consuming: 297.57\n"
     ]
    }
   ],
   "source": [
    "# 没用多线程\n",
    "import time\n",
    "\n",
    "if __name__ == '__main__':\n",
    "    startTime = time.time() \n",
    "    \n",
    "    # 循环操作24个集合：新建指定字段\n",
    "    subCol24 = list()\n",
    "    subCol24.append([\"col_weibo_timePeriod\" + str(period) for period in range(0, 24)])\n",
    "    print(subCol24[0])\n",
    "    colPackages = subCol24[0]\n",
    "\n",
    "    wordFreqDictNoThread = dict()\n",
    "    \n",
    "    topK = 200  # 返回的是前200个高频词\n",
    "    \n",
    "#     threads = []\n",
    "    for i in range(0, len(colPackages)):\n",
    "        print(colPackages[i])\n",
    "        computeWordFreq(colPackages[i], wordFreqDictNoThread, topK)\n",
    "        \n",
    "#         t = myThread(\"col\" + str(i), colPackages[i], wordFreqDict, topK)\n",
    "#         t.start()\n",
    "#         threads.append(t)\n",
    "        \n",
    "#     [thread.join() for thread in threads]\n",
    "#     print (\"退出主线程\")\n",
    "    \n",
    "    endTime = time.time()    \n",
    "    print(\"---------------> Time consuming: %.2f\" % (endTime - startTime))\n",
    "    save_variable1(wordFreqDictNoThread, 'wordFreqDictNoThread_WithType.txt')\n",
    "    save_variable2(str(wordFreqDictNoThread), 'wordFreqDictNoThread_WithoutType.txt')  # 只能查看字符串"
   ]
  },
  {
   "cell_type": "code",
   "execution_count": 135,
   "id": "1109a94d",
   "metadata": {},
   "outputs": [],
   "source": [
    "import threading\n",
    "import time\n",
    "\n",
    "class myThread(threading.Thread):\n",
    "    def __init__(self, threadName, targetCol, wordFreqDict, topK):\n",
    "        threading.Thread.__init__(self)\n",
    "        self.threadName = threadName\n",
    "        self.targetCol = targetCol\n",
    "        self.wordFreqDict = wordFreqDict\n",
    "        self.topK = topK\n",
    "        \n",
    "    def run(self):\n",
    "        print (\"开始线程：\" + str(self.threadName))\n",
    "        computeWordFreq(self.targetCol, self.wordFreqDict, self.topK)\n",
    "        print (\"退出线程：\" + str(self.threadName))"
   ]
  },
  {
   "cell_type": "code",
   "execution_count": 139,
   "id": "13dc5d92",
   "metadata": {
    "collapsed": true
   },
   "outputs": [
    {
     "name": "stdout",
     "output_type": "stream",
     "text": [
      "['col_weibo_timePeriod0', 'col_weibo_timePeriod1', 'col_weibo_timePeriod2', 'col_weibo_timePeriod3', 'col_weibo_timePeriod4', 'col_weibo_timePeriod5', 'col_weibo_timePeriod6', 'col_weibo_timePeriod7', 'col_weibo_timePeriod8', 'col_weibo_timePeriod9', 'col_weibo_timePeriod10', 'col_weibo_timePeriod11', 'col_weibo_timePeriod12', 'col_weibo_timePeriod13', 'col_weibo_timePeriod14', 'col_weibo_timePeriod15', 'col_weibo_timePeriod16', 'col_weibo_timePeriod17', 'col_weibo_timePeriod18', 'col_weibo_timePeriod19', 'col_weibo_timePeriod20', 'col_weibo_timePeriod21', 'col_weibo_timePeriod22', 'col_weibo_timePeriod23']\n",
      "col_weibo_timePeriod0\n",
      "开始线程：col0\n",
      "col_weibo_timePeriod1\n",
      "开始线程：col1\n",
      "col_weibo_timePeriod2\n",
      "开始线程：col2col_weibo_timePeriod3\n",
      "\n",
      "开始线程：col3\n",
      "col_weibo_timePeriod4\n",
      "开始线程：col4\n",
      "col_weibo_timePeriod5\n",
      "开始线程：col5col_weibo_timePeriod6\n",
      "\n",
      "开始线程：col6\n",
      "col_weibo_timePeriod7\n",
      "开始线程：col7\n",
      "col_weibo_timePeriod8\n",
      "开始线程：col8\n",
      "col_weibo_timePeriod9\n",
      "开始线程：col9col_weibo_timePeriod10\n",
      "\n",
      "开始线程：col10\n",
      "col_weibo_timePeriod11\n",
      "开始线程：col11\n",
      "col_weibo_timePeriod12\n",
      "开始线程：col12\n",
      "col_weibo_timePeriod13\n",
      "开始线程：col13\n",
      "col_weibo_timePeriod14\n",
      "开始线程：col14\n",
      "col_weibo_timePeriod15\n",
      "开始线程：col15\n",
      "col_weibo_timePeriod16\n",
      "开始线程：col16\n",
      "col_weibo_timePeriod17\n",
      "开始线程：col17\n",
      "col_weibo_timePeriod18\n",
      "开始线程：col18\n",
      "col_weibo_timePeriod19\n",
      "开始线程：col19\n",
      "col_weibo_timePeriod20\n",
      "开始线程：col20\n",
      "col_weibo_timePeriod21\n",
      "开始线程：col21\n",
      "col_weibo_timePeriod22\n",
      "开始线程：col22\n",
      "col_weibo_timePeriod23\n",
      "开始线程：col23\n",
      "退出线程：col4\n",
      "退出线程：col5\n",
      "退出线程：col3\n",
      "退出线程：col18\n",
      "退出线程：col6\n",
      "退出线程：col22\n",
      "退出线程：col2\n",
      "退出线程：col19\n",
      "退出线程：col21\n",
      "退出线程：col20\n",
      "退出线程：col17\n",
      "退出线程：col15\n",
      "退出线程：col23\n",
      "退出线程：col16\n",
      "退出线程：col14\n",
      "退出线程：col7\n",
      "退出线程：col13\n",
      "退出线程：col12\n",
      "退出线程：col1\n",
      "退出线程：col10\n",
      "退出线程：col11\n",
      "退出线程：col9\n",
      "退出线程：col8\n",
      "退出线程：col0\n",
      "退出主线程\n",
      "---------------> Time consuming: 251.06\n"
     ]
    }
   ],
   "source": [
    "# 用了多线程\n",
    "import time\n",
    "\n",
    "if __name__ == '__main__':\n",
    "    startTime = time.time() \n",
    "    \n",
    "    # 循环操作24个集合：新建指定字段\n",
    "    subCol24 = list()\n",
    "    subCol24.append([\"col_weibo_timePeriod\" + str(period) for period in range(0, 24)])\n",
    "    print(subCol24[0])\n",
    "    colPackages = subCol24[0]\n",
    "\n",
    "    wordFreqDictMulThread = dict()\n",
    "    \n",
    "    topK = 200  # 返回的是前200个高频词\n",
    "    \n",
    "    threads = []\n",
    "    for i in range(0, len(colPackages)):\n",
    "        print(colPackages[i])\n",
    "        t = myThread(\"col\" + str(i), colPackages[i], wordFreqDictMulThread, topK)\n",
    "        t.start()\n",
    "        threads.append(t)\n",
    "        \n",
    "    [thread.join() for thread in threads]\n",
    "    print (\"退出主线程\")\n",
    "    \n",
    "    endTime = time.time()    \n",
    "    print(\"---------------> Time consuming: %.2f\" % (endTime - startTime))\n",
    "    save_variable1(wordFreqDictMulThread, 'wordFreqDictMulThread_WithType1121.txt')\n",
    "    save_variable2(str(wordFreqDictMulThread), 'wordFreqDictMulThread_WithoutType1121.txt')  # 只能查看字符串"
   ]
  },
  {
   "cell_type": "code",
   "execution_count": 109,
   "id": "d3872b33",
   "metadata": {},
   "outputs": [
    {
     "data": {
      "text/plain": [
       "{'col_weibo_timePeriod0': [3, 2, {' ': 412126, '医院': 317327, '病人': 2969590}],\n",
       " 'col_weibo_timePeriod1': [3, 2, {' ': 412126, '医院': 317327, '病人': 2969590}]}"
      ]
     },
     "execution_count": 109,
     "metadata": {},
     "output_type": "execute_result"
    }
   ],
   "source": [
    "# 小规模测试(可删除，建议保留)\n",
    "# -------------------------------------\n",
    "# targetCol = 'col_weibo_timePeriod1'\n",
    "# wordFreqDict = dict()\n",
    "\n",
    "def ccc(targetCol, wordFreqDict):\n",
    "    wordFreqDict[targetCol] = list()\n",
    "    for i in range(0,3+1):\n",
    "        tempCnt_Words = i\n",
    "    items = ['a','b']\n",
    "    wordcloudDic = {' ': 412126, '医院': 317327, '病人': 2969590}\n",
    "\n",
    "    wordFreqDict[targetCol].append(tempCnt_Words)\n",
    "    wordFreqDict[targetCol].append(len(items))\n",
    "    wordFreqDict[targetCol].append(wordcloudDic)\n",
    "# wordFreqDict[targetCol] = 1\n",
    "\n",
    "\n",
    "if __name__ == '__main__':\n",
    "    wordFreqDict = dict()\n",
    "    for tC in ['col_weibo_timePeriod0', 'col_weibo_timePeriod1']:\n",
    "        ccc(tC, wordFreqDict)\n",
    "\n",
    "\n",
    "wordFreqDict"
   ]
  },
  {
   "cell_type": "code",
   "execution_count": null,
   "id": "db5bae34",
   "metadata": {},
   "outputs": [],
   "source": []
  }
 ],
 "metadata": {
  "kernelspec": {
   "display_name": "Python 3 (ipykernel)",
   "language": "python",
   "name": "python3"
  },
  "language_info": {
   "codemirror_mode": {
    "name": "ipython",
    "version": 3
   },
   "file_extension": ".py",
   "mimetype": "text/x-python",
   "name": "python",
   "nbconvert_exporter": "python",
   "pygments_lexer": "ipython3",
   "version": "3.9.7"
  }
 },
 "nbformat": 4,
 "nbformat_minor": 5
}
